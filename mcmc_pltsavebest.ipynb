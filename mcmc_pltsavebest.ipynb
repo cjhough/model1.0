{
 "cells": [
  {
   "cell_type": "code",
   "execution_count": 1,
   "metadata": {
    "scrolled": true
   },
   "outputs": [
    {
     "name": "stdout",
     "output_type": "stream",
     "text": [
      "storeresults/trex_100CHISQ.pkl    storeresults/vraptor_100CHISQ.pkl\r\n",
      "storeresults/trex_100SUM.pkl      storeresults/vraptor_100SUM.pkl\r\n",
      "storeresults/trex_100THETA.pkl    storeresults/vraptor_100THETA.pkl\r\n",
      "storeresults/trex_20CHISQ.pkl     storeresults/vraptor_20CHISQ.pkl\r\n",
      "storeresults/trex_20SUM.pkl       storeresults/vraptor_20SUM.pkl\r\n",
      "storeresults/trex_20THETA.pkl     storeresults/vraptor_20THETA.pkl\r\n",
      "storeresults/trex_40CHISQ.pkl     storeresults/vraptor_40CHISQ.pkl\r\n",
      "storeresults/trex_40SUM.pkl       storeresults/vraptor_40SUM.pkl\r\n",
      "storeresults/trex_40THETA.pkl     storeresults/vraptor_40THETA.pkl\r\n",
      "storeresults/trex_60CHISQ.pkl     storeresults/vraptor_60CHISQ.pkl\r\n",
      "storeresults/trex_60SUM.pkl       storeresults/vraptor_60SUM.pkl\r\n",
      "storeresults/trex_60THETA.pkl     storeresults/vraptor_60THETA.pkl\r\n",
      "storeresults/trex_80CHISQ.pkl     storeresults/vraptor_80CHISQ.pkl\r\n",
      "storeresults/trex_80SUM.pkl       storeresults/vraptor_80SUM.pkl\r\n",
      "storeresults/trex_80THETA.pkl     storeresults/vraptor_80THETA.pkl\r\n"
     ]
    }
   ],
   "source": [
    "!ls storeresults/*.pkl"
   ]
  },
  {
   "cell_type": "code",
   "execution_count": 2,
   "metadata": {
    "collapsed": true
   },
   "outputs": [],
   "source": [
    "import pandas as pd\n",
    "import numpy as np\n",
    "import matplotlib.pyplot as plt\n",
    "\n",
    "%matplotlib inline"
   ]
  },
  {
   "cell_type": "code",
   "execution_count": 3,
   "metadata": {
    "collapsed": true
   },
   "outputs": [],
   "source": [
    "modelpath = str('/Users/carly/CODE/model1.0/')\n",
    "datapath = str('storeresults/')"
   ]
  },
  {
   "cell_type": "code",
   "execution_count": 4,
   "metadata": {
    "collapsed": true
   },
   "outputs": [],
   "source": [
    "mc = str('vraptor_100')"
   ]
  },
  {
   "cell_type": "code",
   "execution_count": 5,
   "metadata": {
    "collapsed": true
   },
   "outputs": [],
   "source": [
    "def readchi(path,name):\n",
    "    chiread = pd.read_pickle(path+name+'CHISQ.pkl')\n",
    "    return chiread\n",
    "def readtheta(path,name):\n",
    "    thetaread = pd.read_pickle(path+name+'THETA.pkl')\n",
    "    return thetaread\n",
    "def readsum(path,name):\n",
    "    sumread  = pd.read_pickle(path+name+'SUM.pkl')\n",
    "    return sumread"
   ]
  },
  {
   "cell_type": "code",
   "execution_count": 6,
   "metadata": {
    "collapsed": true
   },
   "outputs": [],
   "source": [
    "mcsum = readsum(datapath,mc)\n",
    "mctheta = readtheta(datapath,mc)\n",
    "mcchi = readchi(datapath,mc)"
   ]
  },
  {
   "cell_type": "code",
   "execution_count": 7,
   "metadata": {},
   "outputs": [
    {
     "data": {
      "image/png": "[encoded data removed]",
      "text/plain": [
       "<matplotlib.figure.Figure at 0x105d34cd0>"
      ]
     },
     "metadata": {},
     "output_type": "display_data"
    }
   ],
   "source": [
    "fig = plt.Figure()\n",
    "\n",
    "mcsum.plot.line(title='')\n",
    "\n",
    "fig.set_size_inches(10,8)\n",
    "#fig.tight_layout()\n",
    "fig.get_figure()\n",
    "\n",
    "#fig.savefig('/Users/carly/Desktop/artifice1_MCMC')"
   ]
  },
  {
   "cell_type": "code",
   "execution_count": 8,
   "metadata": {},
   "outputs": [
    {
     "name": "stdout",
     "output_type": "stream",
     "text": [
      "<class 'pandas.core.frame.DataFrame'>\n",
      "Int64Index: 101 entries, 0 to 100\n",
      "Data columns (total 5 columns):\n",
      "FIRST_EPOCH_PROB_U1    101 non-null float64\n",
      "MEAN_U1                101 non-null float64\n",
      "MEAN_U2                101 non-null float64\n",
      "SD_U1                  101 non-null float64\n",
      "SD_U2                  101 non-null float64\n",
      "dtypes: float64(5)\n",
      "memory usage: 4.7 KB\n"
     ]
    }
   ],
   "source": [
    "mcsum.info()"
   ]
  },
  {
   "cell_type": "code",
   "execution_count": 9,
   "metadata": {},
   "outputs": [
    {
     "data": {
      "text/plain": [
       "68"
      ]
     },
     "execution_count": 9,
     "metadata": {},
     "output_type": "execute_result"
    }
   ],
   "source": [
    "allchi = mcsum.sum(axis=1)\n",
    "allchi.idxmin()"
   ]
  },
  {
   "cell_type": "code",
   "execution_count": 10,
   "metadata": {
    "collapsed": true
   },
   "outputs": [],
   "source": [
    "def kc(dic):\n",
    "    s1 = dic\n",
    "    for key, value in s1.items():\n",
    "        # do something with value\n",
    "        s1[key] = value\n",
    "    return s1"
   ]
  },
  {
   "cell_type": "code",
   "execution_count": 11,
   "metadata": {
    "collapsed": true
   },
   "outputs": [],
   "source": [
    "#thetakc = pd.DataFrame.from_records(mctheta['kc'])"
   ]
  },
  {
   "cell_type": "code",
   "execution_count": 12,
   "metadata": {
    "collapsed": true
   },
   "outputs": [],
   "source": [
    "steps = len(mcsum)\n",
    "x0 = np.arange(0,steps)"
   ]
  },
  {
   "cell_type": "code",
   "execution_count": 13,
   "metadata": {},
   "outputs": [
    {
     "data": {
      "image/png": "[encoded data removed]",
      "text/plain": [
       "<matplotlib.figure.Figure at 0x10b1820d0>"
      ]
     },
     "metadata": {},
     "output_type": "display_data"
    }
   ],
   "source": [
    "theta = mctheta\n",
    "fig,ax = plt.subplots(3,3)\n",
    "\n",
    "ax[0,0].plot(x0,theta['beta'],color='blue',label='BETA')\n",
    "ax[0,1].plot(x0,theta['gamma'],color='green',label='GAMMA')\n",
    "ax[0,2].plot(x0,theta['sigma'],color='purple',label='SIGMA')\n",
    "ax[1,0].plot(x0,theta['tau_a'],color='orange',label='TAU_A')\n",
    "ax[1,1].plot(x0,theta['tau_u'],color='brown',label='TAU_U')\n",
    "ax[1,2].plot(x0,theta['mu'],color='black',label='MU')\n",
    "ax[2,0].plot(x0,theta['ks'],color='yellow',label='not from contrast')\n",
    "ax[2,1].plot(x0,theta['kc'],color='grey',label='contrast')\n",
    "ax[2,2].plot(x0,theta['kb'],color='pink',label='baseline stimulus')\n",
    "\n",
    "\n",
    "\n",
    "ax[0,0].set_title('BETA')\n",
    "ax[0,1].set_title('GAMMA')\n",
    "ax[0,2].set_title('SIGMA (noise)')\n",
    "ax[1,0].set_title('TAU_A')\n",
    "ax[1,1].set_title('TAU_U')\n",
    "ax[1,2].set_title('Mu')\n",
    "ax[2,0].set_title('Not Contrast Stimulus')\n",
    "ax[2,1].set_title('Contrast Stimulus')\n",
    "ax[2,2].set_title('Baseline Stimulus')\n",
    "\n",
    "fig.tight_layout()\n",
    "fig.get_figure()\n",
    "fig.set_size_inches(10,10)\n",
    "#fig.savefig(savepath+'', dpi=100)"
   ]
  },
  {
   "cell_type": "code",
   "execution_count": 14,
   "metadata": {
    "collapsed": true
   },
   "outputs": [],
   "source": [
    "chicol = ['CHI: First Epoch Probability',\n",
    "          'CHI: U1 Mean Dominance Time',\n",
    "          'CHI: U2 Mean Dominance Time',\n",
    "          'CHI: U1 std for CV=0.6',\n",
    "          'CHI: U2 std for CV=0.6'\n",
    "         ]"
   ]
  },
  {
   "cell_type": "code",
   "execution_count": 15,
   "metadata": {
    "collapsed": true
   },
   "outputs": [],
   "source": [
    "best = allchi.idxmin()"
   ]
  },
  {
   "cell_type": "code",
   "execution_count": 16,
   "metadata": {},
   "outputs": [
    {
     "data": {
      "text/html": [
       "<div>\n",
       "<style>\n",
       "    .dataframe thead tr:only-child th {\n",
       "        text-align: right;\n",
       "    }\n",
       "\n",
       "    .dataframe thead th {\n",
       "        text-align: left;\n",
       "    }\n",
       "\n",
       "    .dataframe tbody tr th {\n",
       "        vertical-align: top;\n",
       "    }\n",
       "</style>\n",
       "<table border=\"1\" class=\"dataframe\">\n",
       "  <thead>\n",
       "    <tr style=\"text-align: right;\">\n",
       "      <th></th>\n",
       "      <th>CHI: First Epoch Probability</th>\n",
       "      <th>CHI: U1 Mean Dominance Time</th>\n",
       "      <th>CHI: U2 Mean Dominance Time</th>\n",
       "      <th>CHI: U1 std for CV=0.6</th>\n",
       "      <th>CHI: U2 std for CV=0.6</th>\n",
       "    </tr>\n",
       "  </thead>\n",
       "  <tbody>\n",
       "    <tr>\n",
       "      <th>0</th>\n",
       "      <td>0.080032</td>\n",
       "      <td>0.091257</td>\n",
       "      <td>0.075058</td>\n",
       "      <td>1.599959</td>\n",
       "      <td>0.600426</td>\n",
       "    </tr>\n",
       "    <tr>\n",
       "      <th>20</th>\n",
       "      <td>8.302628</td>\n",
       "      <td>0.114325</td>\n",
       "      <td>0.523921</td>\n",
       "      <td>0.214496</td>\n",
       "      <td>2.260220</td>\n",
       "    </tr>\n",
       "    <tr>\n",
       "      <th>40</th>\n",
       "      <td>0.000000</td>\n",
       "      <td>0.000004</td>\n",
       "      <td>2.860299</td>\n",
       "      <td>0.309472</td>\n",
       "      <td>4.891115</td>\n",
       "    </tr>\n",
       "    <tr>\n",
       "      <th>60</th>\n",
       "      <td>0.000000</td>\n",
       "      <td>0.099370</td>\n",
       "      <td>5.523817</td>\n",
       "      <td>0.473863</td>\n",
       "      <td>7.977999</td>\n",
       "    </tr>\n",
       "    <tr>\n",
       "      <th>80</th>\n",
       "      <td>0.000000</td>\n",
       "      <td>0.123548</td>\n",
       "      <td>12.234741</td>\n",
       "      <td>0.243124</td>\n",
       "      <td>9.757808</td>\n",
       "    </tr>\n",
       "  </tbody>\n",
       "</table>\n",
       "</div>"
      ],
      "text/plain": [
       "    CHI: First Epoch Probability  CHI: U1 Mean Dominance Time  \\\n",
       "0                       0.080032                     0.091257   \n",
       "20                      8.302628                     0.114325   \n",
       "40                      0.000000                     0.000004   \n",
       "60                      0.000000                     0.099370   \n",
       "80                      0.000000                     0.123548   \n",
       "\n",
       "    CHI: U2 Mean Dominance Time  CHI: U1 std for CV=0.6  \\\n",
       "0                      0.075058                1.599959   \n",
       "20                     0.523921                0.214496   \n",
       "40                     2.860299                0.309472   \n",
       "60                     5.523817                0.473863   \n",
       "80                    12.234741                0.243124   \n",
       "\n",
       "    CHI: U2 std for CV=0.6  \n",
       "0                 0.600426  \n",
       "20                2.260220  \n",
       "40                4.891115  \n",
       "60                7.977999  \n",
       "80                9.757808  "
      ]
     },
     "execution_count": 16,
     "metadata": {},
     "output_type": "execute_result"
    }
   ],
   "source": [
    "dfbest = pd.DataFrame(mcchi[best])\n",
    "chiallsave = dfbest.T\n",
    "chiallsave.columns = chicol\n",
    "#chiallsave.index.name = 1\n",
    "chiallsave"
   ]
  },
  {
   "cell_type": "code",
   "execution_count": 17,
   "metadata": {},
   "outputs": [
    {
     "data": {
      "text/plain": [
       "beta        3.127055\n",
       "gamma       1.702208\n",
       "kb          0.147254\n",
       "kc          0.130488\n",
       "ks          4.154883\n",
       "mu          0.000859\n",
       "sigma       0.948556\n",
       "tau_a    2484.743610\n",
       "tau_u      13.713367\n",
       "Name: 68, dtype: float64"
      ]
     },
     "execution_count": 17,
     "metadata": {},
     "output_type": "execute_result"
    }
   ],
   "source": [
    "thetasave = mctheta.iloc[best]\n",
    "thetasave"
   ]
  },
  {
   "cell_type": "code",
   "execution_count": 29,
   "metadata": {
    "collapsed": true
   },
   "outputs": [],
   "source": [
    "#thetasave['mu']=0.001"
   ]
  },
  {
   "cell_type": "code",
   "execution_count": 18,
   "metadata": {
    "collapsed": true
   },
   "outputs": [],
   "source": [
    "#thetasave.to_pickle(pathname+'.pkl')\n",
    "#thetasave.to_pickle(modelpath+'vraptorII.pkl')"
   ]
  },
  {
   "cell_type": "code",
   "execution_count": 19,
   "metadata": {},
   "outputs": [
    {
     "data": {
      "text/plain": [
       "FIRST_EPOCH_PROB_U1     8.382660\n",
       "MEAN_U1                 0.428504\n",
       "MEAN_U2                21.217835\n",
       "SD_U1                   2.840913\n",
       "SD_U2                  25.487569\n",
       "CHI SUM                58.357482\n",
       "dtype: float64"
      ]
     },
     "execution_count": 19,
     "metadata": {},
     "output_type": "execute_result"
    }
   ],
   "source": [
    "colsum = dfbest.sum(axis=1)\n",
    "colsum['CHI SUM'] = colsum.sum()\n",
    "colsum"
   ]
  },
  {
   "cell_type": "code",
   "execution_count": null,
   "metadata": {
    "collapsed": true
   },
   "outputs": [],
   "source": []
  }
 ],
 "metadata": {
  "kernelspec": {
   "display_name": "Python 2",
   "language": "python",
   "name": "python2"
  },
  "language_info": {
   "codemirror_mode": {
    "name": "ipython",
    "version": 2
   },
   "file_extension": ".py",
   "mimetype": "text/x-python",
   "name": "python",
   "nbconvert_exporter": "python",
   "pygments_lexer": "ipython2",
   "version": "2.7.13"
  }
 },
 "nbformat": 4,
 "nbformat_minor": 2
}
