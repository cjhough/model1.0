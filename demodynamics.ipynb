{
 "cells": [
  {
   "cell_type": "code",
   "execution_count": 16,
   "metadata": {
    "collapsed": true
   },
   "outputs": [],
   "source": [
    "import pandas as pd\n",
    "import rivalry1 as rv\n",
    "import matplotlib.pyplot as plt\n",
    "import numpy as np\n",
    "%matplotlib inline"
   ]
  },
  {
   "cell_type": "code",
   "execution_count": 17,
   "metadata": {
    "collapsed": true
   },
   "outputs": [],
   "source": [
    "#ip = pd.Series(p)\n",
    "#ip.to_pickle('trex.pkl')\n",
    "#ip"
   ]
  },
  {
   "cell_type": "code",
   "execution_count": 18,
   "metadata": {
    "collapsed": true
   },
   "outputs": [],
   "source": [
    "#from initialparameters.txt\n",
    "#p = {}\n",
    "#p['beta']=1.7\n",
    "#p['gamma'] = 3.52\n",
    "#p['tau_a']=1248.0\n",
    "#p['tau_u']=10\n",
    "#p['sigma']=0.4\n",
    "#p['mu']=0\n",
    "#p['ks']=3\n",
    "#p['kc']=0.1\n",
    "#p['kb'] = 0.109369\n",
    "\n",
    "#S = [p[5] + p[6]*C;p[5] - p[6]*C;p[7]]"
   ]
  },
  {
   "cell_type": "code",
   "execution_count": 19,
   "metadata": {
    "collapsed": true
   },
   "outputs": [],
   "source": [
    "p = pd.read_pickle('trex.pkl')"
   ]
  },
  {
   "cell_type": "code",
   "execution_count": 20,
   "metadata": {
    "collapsed": true
   },
   "outputs": [],
   "source": [
    "tot=500000\n",
    "tpre=6000\n",
    "dt = 1"
   ]
  },
  {
   "cell_type": "code",
   "execution_count": 30,
   "metadata": {
    "collapsed": true
   },
   "outputs": [],
   "source": [
    "#unpack fixed parameters\n",
    "param = p\n",
    "beta = param['beta']\n",
    "#alpha = param['alpha']\n",
    "gamma = param['gamma']\n",
    "tau_a = param['tau_a']\n",
    "sigma = param['sigma']\n",
    "mu = param['mu']\n",
    "tau_u = param['tau_u']\n",
    "\n",
    "#input stimulus\n",
    "contrast = [0.0,1.0,2.0,3.0,4.0]\n",
    "r = contrast[2]\n",
    "ks = param['ks']\n",
    "kc = param['kc']\n",
    "kb = param['kb']\n",
    "k1 = rv.stimulus(ks,kc,r)\n",
    "k2 = rv.stimulus(ks,kc,-r)#weaker stimulus\n",
    "\n",
    "tf = tot\n",
    "equil = tpre\n",
    "totaltime= tf + equil\n",
    "\n",
    "#system variables\n",
    "U = np.random.uniform(0,1,(2,2))\n",
    "A = np.random.uniform(0,1,(2,1))\n",
    "Z = np.random.uniform(0,1,(2,1))\n",
    "\n",
    "u1 = []\n",
    "u2 = []\n",
    "a1 = []\n",
    "a2 = []\n",
    "z1 = []\n",
    "z2 = []\n",
    "t = []\n",
    "i=0"
   ]
  },
  {
   "cell_type": "code",
   "execution_count": 31,
   "metadata": {},
   "outputs": [
    {
     "data": {
      "text/plain": [
       "beta        1.700000\n",
       "gamma       3.520000\n",
       "kb          0.109369\n",
       "kc          0.100000\n",
       "ks          3.000000\n",
       "mu          0.000000\n",
       "sigma       0.400000\n",
       "tau_a    1248.000000\n",
       "tau_u      10.000000\n",
       "dtype: float64"
      ]
     },
     "execution_count": 31,
     "metadata": {},
     "output_type": "execute_result"
    }
   ],
   "source": [
    "p"
   ]
  },
  {
   "cell_type": "code",
   "execution_count": 32,
   "metadata": {},
   "outputs": [
    {
     "name": "stdout",
     "output_type": "stream",
     "text": [
      "[[ 0.05715235  0.63497754]\n",
      " [ 0.09216408  0.76519565]]\n",
      "[[ 0.86486897]\n",
      " [ 0.4641028 ]]\n",
      "[[ 0.23497645]\n",
      " [ 0.21030617]]\n"
     ]
    }
   ],
   "source": [
    "print U\n",
    "print A\n",
    "print Z"
   ]
  },
  {
   "cell_type": "code",
   "execution_count": 33,
   "metadata": {
    "collapsed": true
   },
   "outputs": [],
   "source": [
    "while i < totaltime:\n",
    "    i += 1\n",
    "    t.append(i*dt)\n",
    "    stim_on = int(equil<i)\n",
    "    S1 = k1*stim_on\n",
    "    S2 = k2*stim_on\n",
    "    Z[0,0] = Z[0,0] -dt*(Z[0,0] + np.sqrt(dt)*sigma*np.random.randn())\n",
    "    Z[1,0] = Z[1,0] -dt*(Z[1,0] + np.sqrt(dt)*sigma*np.random.randn())\n",
    "\n",
    "    U[0,1] = U[0,0]+dt*(-U[0,0]+rv.gain_pl_sqrt(kb+S1 - beta*U[1,0] -gamma*A[0,0] + Z[0,0]*(1+mu*U[1,0])))/tau_u\n",
    "    U[1,1] = U[1,0]+dt*(-U[1,0]+rv.gain_pl_sqrt(kb+S2 - beta*U[0,0] -gamma*A[1,0] + Z[1,0]*(1+mu*U[0,0])))/tau_u\n",
    "    U[0,0] = U[0,1]\n",
    "    U[1,0] = U[1,1]\n",
    "\n",
    "    A[0,0] = A[0,0] + dt*(-A[0,0] + U[0,0])/tau_a\n",
    "    A[1,0] = A[1,0] + dt*(-A[1,0] + U[1,0])/tau_a\n",
    "\n",
    "    u1.append(U[0,0])\n",
    "    u2.append(U[1,0])\n",
    "    a1.append(A[0,0])\n",
    "    a2.append(A[1,0])\n",
    "    z1.append(Z[0,0])\n",
    "    z2.append(Z[1,0])"
   ]
  },
  {
   "cell_type": "code",
   "execution_count": 34,
   "metadata": {},
   "outputs": [
    {
     "data": {
      "image/png": "[encoded data removed]",
      "text/plain": [
       "<matplotlib.figure.Figure at 0x10afc54d0>"
      ]
     },
     "metadata": {},
     "output_type": "display_data"
    }
   ],
   "source": [
    "xmax=30000\n",
    "fig, axs = plt.subplots(3,1)\n",
    "axs[0].plot(t,u1,t,u2)\n",
    "axs[0].set_xlim(0,xmax)\n",
    "axs[1].plot(t,a1,t,a2)\n",
    "axs[1].set_xlim(0,xmax)\n",
    "axs[2].plot(t,z1,t,z2)\n",
    "axs[2].set_xlim(0,xmax)\n",
    "fig.tight_layout()"
   ]
  },
  {
   "cell_type": "code",
   "execution_count": 35,
   "metadata": {
    "collapsed": true
   },
   "outputs": [],
   "source": [
    "DOM1 = []\n",
    "DOM2 = []\n",
    "LEADER = []"
   ]
  },
  {
   "cell_type": "code",
   "execution_count": 36,
   "metadata": {
    "collapsed": true
   },
   "outputs": [],
   "source": [
    "td1 = rv.dominance(t,u1,u2,equil)\n",
    "td2 = rv.dominance(t,u2,u1,equil)\n",
    "\n",
    "DOM1.extend(td1)\n",
    "DOM2.extend(td2)\n",
    "\n",
    "TD1 = np.array(DOM1)\n",
    "TD2 = np.array(DOM2)"
   ]
  },
  {
   "cell_type": "code",
   "execution_count": null,
   "metadata": {
    "collapsed": true
   },
   "outputs": [],
   "source": []
  },
  {
   "cell_type": "code",
   "execution_count": 37,
   "metadata": {
    "collapsed": true
   },
   "outputs": [],
   "source": [
    "FINAL_DATA = {}\n",
    "#FINAL_DATA['FIRST_EPOCH_PROB'] = rv.prob_seq(LEADER,1)\n",
    "FINAL_DATA['MEAN_U1'] = np.mean(TD1)\n",
    "FINAL_DATA['MEAN_U2'] = np.mean(TD2)\n",
    "FINAL_DATA['SD_U1'] = np.std(TD1)\n",
    "FINAL_DATA['SD_U2'] = np.std(TD2)\n",
    "FINAL_DATA['CV_U1'] = FINAL_DATA['SD_U1']/FINAL_DATA['MEAN_U1']\n",
    "FINAL_DATA['CV_U2'] = FINAL_DATA['SD_U2']/FINAL_DATA['MEAN_U2']"
   ]
  },
  {
   "cell_type": "code",
   "execution_count": 38,
   "metadata": {},
   "outputs": [
    {
     "data": {
      "text/plain": [
       "{'CV_U1': 0.70102877497092031,\n",
       " 'CV_U2': 0.69719333320730414,\n",
       " 'MEAN_U1': 235.01686340640811,\n",
       " 'MEAN_U2': 187.78481012658227,\n",
       " 'SD_U1': 164.75358385130238,\n",
       " 'SD_U2': 130.92231769785261}"
      ]
     },
     "execution_count": 38,
     "metadata": {},
     "output_type": "execute_result"
    }
   ],
   "source": [
    "FINAL_DATA"
   ]
  },
  {
   "cell_type": "code",
   "execution_count": 13,
   "metadata": {
    "collapsed": true
   },
   "outputs": [],
   "source": [
    "import model as model"
   ]
  },
  {
   "cell_type": "code",
   "execution_count": 14,
   "metadata": {
    "collapsed": true
   },
   "outputs": [],
   "source": [
    "#pmi = model.run(p,1,500)"
   ]
  },
  {
   "cell_type": "code",
   "execution_count": 15,
   "metadata": {
    "collapsed": true
   },
   "outputs": [],
   "source": [
    "pm3 = model.run(p3,1,200)"
   ]
  },
  {
   "cell_type": "code",
   "execution_count": 15,
   "metadata": {
    "collapsed": true
   },
   "outputs": [],
   "source": [
    "#pmi['CV_U1']=pmi['SD_U1']/pmi['MEAN_U1']\n",
    "#pmi['CV_U2']=pmi['SD_U2']/pmi['MEAN_U2']\n",
    "#pmi"
   ]
  },
  {
   "cell_type": "code",
   "execution_count": 16,
   "metadata": {},
   "outputs": [
    {
     "data": {
      "text/html": [
       "<div>\n",
       "<style>\n",
       "    .dataframe thead tr:only-child th {\n",
       "        text-align: right;\n",
       "    }\n",
       "\n",
       "    .dataframe thead th {\n",
       "        text-align: left;\n",
       "    }\n",
       "\n",
       "    .dataframe tbody tr th {\n",
       "        vertical-align: top;\n",
       "    }\n",
       "</style>\n",
       "<table border=\"1\" class=\"dataframe\">\n",
       "  <thead>\n",
       "    <tr style=\"text-align: right;\">\n",
       "      <th></th>\n",
       "      <th>COUNTS_U1</th>\n",
       "      <th>COUNTS_U2</th>\n",
       "      <th>FIRST_EPOCH_PROB_U1</th>\n",
       "      <th>FIRST_EPOCH_PROB_U2</th>\n",
       "      <th>MEAN_U1</th>\n",
       "      <th>MEAN_U2</th>\n",
       "      <th>SD_U1</th>\n",
       "      <th>SD_U2</th>\n",
       "      <th>CV_U1</th>\n",
       "      <th>CV_U2</th>\n",
       "    </tr>\n",
       "  </thead>\n",
       "  <tbody>\n",
       "    <tr>\n",
       "      <th>0</th>\n",
       "      <td>101.0</td>\n",
       "      <td>99.0</td>\n",
       "      <td>0.505</td>\n",
       "      <td>0.495</td>\n",
       "      <td>1514.666667</td>\n",
       "      <td>1518.666667</td>\n",
       "      <td>647.938774</td>\n",
       "      <td>643.569694</td>\n",
       "      <td>0.427776</td>\n",
       "      <td>0.423773</td>\n",
       "    </tr>\n",
       "    <tr>\n",
       "      <th>20</th>\n",
       "      <td>143.0</td>\n",
       "      <td>57.0</td>\n",
       "      <td>0.715</td>\n",
       "      <td>0.285</td>\n",
       "      <td>1464.033520</td>\n",
       "      <td>1276.133333</td>\n",
       "      <td>846.041000</td>\n",
       "      <td>732.608516</td>\n",
       "      <td>0.577884</td>\n",
       "      <td>0.574085</td>\n",
       "    </tr>\n",
       "    <tr>\n",
       "      <th>40</th>\n",
       "      <td>177.0</td>\n",
       "      <td>23.0</td>\n",
       "      <td>0.885</td>\n",
       "      <td>0.115</td>\n",
       "      <td>1717.650307</td>\n",
       "      <td>1282.908537</td>\n",
       "      <td>817.860298</td>\n",
       "      <td>602.686120</td>\n",
       "      <td>0.476151</td>\n",
       "      <td>0.469781</td>\n",
       "    </tr>\n",
       "    <tr>\n",
       "      <th>60</th>\n",
       "      <td>187.0</td>\n",
       "      <td>13.0</td>\n",
       "      <td>0.935</td>\n",
       "      <td>0.065</td>\n",
       "      <td>1868.531250</td>\n",
       "      <td>1191.031056</td>\n",
       "      <td>942.016978</td>\n",
       "      <td>600.577842</td>\n",
       "      <td>0.504148</td>\n",
       "      <td>0.504250</td>\n",
       "    </tr>\n",
       "    <tr>\n",
       "      <th>80</th>\n",
       "      <td>200.0</td>\n",
       "      <td>0.0</td>\n",
       "      <td>1.000</td>\n",
       "      <td>0.000</td>\n",
       "      <td>2052.194805</td>\n",
       "      <td>1118.941935</td>\n",
       "      <td>1063.441376</td>\n",
       "      <td>564.389813</td>\n",
       "      <td>0.518197</td>\n",
       "      <td>0.504396</td>\n",
       "    </tr>\n",
       "  </tbody>\n",
       "</table>\n",
       "</div>"
      ],
      "text/plain": [
       "    COUNTS_U1  COUNTS_U2  FIRST_EPOCH_PROB_U1  FIRST_EPOCH_PROB_U2  \\\n",
       "0       101.0       99.0                0.505                0.495   \n",
       "20      143.0       57.0                0.715                0.285   \n",
       "40      177.0       23.0                0.885                0.115   \n",
       "60      187.0       13.0                0.935                0.065   \n",
       "80      200.0        0.0                1.000                0.000   \n",
       "\n",
       "        MEAN_U1      MEAN_U2        SD_U1       SD_U2     CV_U1     CV_U2  \n",
       "0   1514.666667  1518.666667   647.938774  643.569694  0.427776  0.423773  \n",
       "20  1464.033520  1276.133333   846.041000  732.608516  0.577884  0.574085  \n",
       "40  1717.650307  1282.908537   817.860298  602.686120  0.476151  0.469781  \n",
       "60  1868.531250  1191.031056   942.016978  600.577842  0.504148  0.504250  \n",
       "80  2052.194805  1118.941935  1063.441376  564.389813  0.518197  0.504396  "
      ]
     },
     "execution_count": 16,
     "metadata": {},
     "output_type": "execute_result"
    }
   ],
   "source": [
    "pm3['CV_U1']=pm3['SD_U1']/pm3['MEAN_U1']\n",
    "pm3['CV_U2']=pm3['SD_U2']/pm3['MEAN_U2']\n",
    "pm3"
   ]
  },
  {
   "cell_type": "code",
   "execution_count": 17,
   "metadata": {},
   "outputs": [
    {
     "data": {
      "text/plain": [
       "alpha       0.000067\n",
       "beta        0.943724\n",
       "gamma       1.347079\n",
       "kb          0.109861\n",
       "kc          0.003166\n",
       "ks          0.178345\n",
       "mu          1.067869\n",
       "sigma       0.031642\n",
       "tau_a    2060.690485\n",
       "tau_u       9.540702\n",
       "Name: 184, dtype: float64"
      ]
     },
     "execution_count": 17,
     "metadata": {},
     "output_type": "execute_result"
    }
   ],
   "source": [
    "p3"
   ]
  },
  {
   "cell_type": "code",
   "execution_count": null,
   "metadata": {
    "collapsed": true
   },
   "outputs": [],
   "source": []
  }
 ],
 "metadata": {
  "kernelspec": {
   "display_name": "Python 2",
   "language": "python",
   "name": "python2"
  },
  "language_info": {
   "codemirror_mode": {
    "name": "ipython",
    "version": 2
   },
   "file_extension": ".py",
   "mimetype": "text/x-python",
   "name": "python",
   "nbconvert_exporter": "python",
   "pygments_lexer": "ipython2",
   "version": "2.7.13"
  }
 },
 "nbformat": 4,
 "nbformat_minor": 2
}
