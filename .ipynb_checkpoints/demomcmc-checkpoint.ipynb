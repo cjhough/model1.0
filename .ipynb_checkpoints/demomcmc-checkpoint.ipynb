{
 "cells": [
  {
   "cell_type": "markdown",
   "metadata": {},
   "source": [
    "## demo mcmc"
   ]
  },
  {
   "cell_type": "code",
   "execution_count": 1,
   "metadata": {
    "collapsed": true
   },
   "outputs": [],
   "source": [
    "import pandas as pd\n",
    "import numpy as np\n",
    "import matplotlib.pyplot as plt\n",
    "import model1 as model\n",
    "\n",
    "%matplotlib inline"
   ]
  },
  {
   "cell_type": "markdown",
   "metadata": {},
   "source": [
    "## define functions and constants"
   ]
  },
  {
   "cell_type": "code",
   "execution_count": 2,
   "metadata": {
    "collapsed": true
   },
   "outputs": [],
   "source": [
    "def newtheta(theta):\n",
    "    a = 0.05\n",
    "    fa = lambda x:x + a*x*np.random.randn()\n",
    "    current = theta\n",
    "    #newkc = mapkc(current.KC.copy())\n",
    "    #newsig = mapkc(current.sig.copy())\n",
    "    proposed = current.map(fa)\n",
    "    #proposed = current.drop(['KC','sig']).map(fa)\n",
    "    #proposed['KC']=newkc\n",
    "    #proposed['sigma']=newsig\n",
    "    return proposed"
   ]
  },
  {
   "cell_type": "code",
   "execution_count": 3,
   "metadata": {
    "collapsed": true
   },
   "outputs": [],
   "source": [
    "def chisq(data,model,variance):\n",
    "    d = data\n",
    "    m = model\n",
    "    v = variance\n",
    "\n",
    "    #for first epoch probability\n",
    "    fmax = lambda x:(max(x,0.001)**2)\n",
    "    N1 = m['COUNTS_U1']\n",
    "    x1 = (m['FIRST_EPOCH_PROB_U1']-d['FIRST_EPOCH_PROB_U1'])**2\n",
    "    s1 = m['FIRST_EPOCH_PROB_U1'].map(fmax)\n",
    "    N2 = m['COUNTS_U2']\n",
    "    x2 = (m['FIRST_EPOCH_PROB_U2']-d['FIRST_EPOCH_PROB_U2'])**2\n",
    "    s2 = m['FIRST_EPOCH_PROB_U2'].map(fmax)\n",
    "\n",
    "    #other chi's follow form: chi = ((d-m)**2)/(v**2)\n",
    "    chi = pd.DataFrame()\n",
    "    chi['FIRST_EPOCH_PROB_U1'] = (N1*(x1/s1) + N2*(x2/s2))\n",
    "    chi['MEAN_U1'] = ((m['MEAN_U1']-d['MEAN_U1'])**2)/(v['MEAN_U1']**2)\n",
    "    chi['MEAN_U2'] = ((m['MEAN_U2']-d['MEAN_U2'])**2)/(v['MEAN_U2']**2)\n",
    "    chi['SD_U1'] = ((m['SD_U1']-d['SD_U1'])**2)/(v['SD_U1']**2)\n",
    "    chi['SD_U2'] = ((m['SD_U2']-d['SD_U2'])**2)/(v['SD_U2']**2)\n",
    "\n",
    "    return chi"
   ]
  },
  {
   "cell_type": "code",
   "execution_count": 4,
   "metadata": {
    "collapsed": true
   },
   "outputs": [],
   "source": [
    "def chisum(df):\n",
    "    #return scalar\n",
    "    one = df.sum(axis=0)\n",
    "    two = one.sum(0)\n",
    "    return two"
   ]
  },
  {
   "cell_type": "code",
   "execution_count": 5,
   "metadata": {
    "collapsed": true
   },
   "outputs": [],
   "source": [
    "def taupen(tau_a):\n",
    "    penalty = (tau_a-2)**2\n",
    "    return penalty\n",
    "\n",
    "def kpen(ks,kc):\n",
    "    delta = 0\n",
    "    pen = delta*(ks + kc)**2\n",
    "    return pen"
   ]
  },
  {
   "cell_type": "code",
   "execution_count": 6,
   "metadata": {
    "collapsed": true
   },
   "outputs": [],
   "source": [
    "index = [0,20,40,60,80]\n",
    "cv = 0.6\n",
    "cv_var = 0.2\n",
    "p1_var = 0.1\n",
    "fcv = lambda x: x*cv\n",
    "fcv_var = lambda x:(x*cv_var)\n",
    "fp1_var = lambda x:(x*p1_var)"
   ]
  },
  {
   "cell_type": "markdown",
   "metadata": {},
   "source": [
    "## load data"
   ]
  },
  {
   "cell_type": "code",
   "execution_count": 7,
   "metadata": {
    "collapsed": true
   },
   "outputs": [],
   "source": [
    "syprob = pd.read_csv('sy_prob.csv',index_col=0)\n",
    "syU1 = pd.read_csv('syU1.csv',index_col=0)\n",
    "syU2 = pd.read_csv('syU2.csv',index_col=0)"
   ]
  },
  {
   "cell_type": "markdown",
   "metadata": {},
   "source": [
    "## construct dataframe of data"
   ]
  },
  {
   "cell_type": "code",
   "execution_count": 8,
   "metadata": {
    "collapsed": true
   },
   "outputs": [],
   "source": [
    "data = pd.DataFrame()\n",
    "data['COUNTS_U1'] = syprob['counts_U1']\n",
    "data['COUNTS_U2'] = syprob['counts_U2']\n",
    "data['FIRST_EPOCH_PROB_U1'] = syprob['U1']\n",
    "data['FIRST_EPOCH_PROB_U2'] = syprob['U2']\n",
    "data['MEAN_U1'] = syU1['MEAN']\n",
    "data['MEAN_U2'] = syU2['MEAN']\n",
    "data['SD_U1'] = data['MEAN_U1'].map(fcv)\n",
    "data['SD_U2'] = data['MEAN_U2'].map(fcv)\n",
    "data.index=index\n",
    "col = data.columns"
   ]
  },
  {
   "cell_type": "code",
   "execution_count": 9,
   "metadata": {},
   "outputs": [
    {
     "data": {
      "text/html": [
       "<div>\n",
       "<style>\n",
       "    .dataframe thead tr:only-child th {\n",
       "        text-align: right;\n",
       "    }\n",
       "\n",
       "    .dataframe thead th {\n",
       "        text-align: left;\n",
       "    }\n",
       "\n",
       "    .dataframe tbody tr th {\n",
       "        vertical-align: top;\n",
       "    }\n",
       "</style>\n",
       "<table border=\"1\" class=\"dataframe\">\n",
       "  <thead>\n",
       "    <tr style=\"text-align: right;\">\n",
       "      <th></th>\n",
       "      <th>COUNTS_U1</th>\n",
       "      <th>COUNTS_U2</th>\n",
       "      <th>FIRST_EPOCH_PROB_U1</th>\n",
       "      <th>FIRST_EPOCH_PROB_U2</th>\n",
       "      <th>MEAN_U1</th>\n",
       "      <th>MEAN_U2</th>\n",
       "      <th>SD_U1</th>\n",
       "      <th>SD_U2</th>\n",
       "    </tr>\n",
       "  </thead>\n",
       "  <tbody>\n",
       "    <tr>\n",
       "      <th>0</th>\n",
       "      <td>50</td>\n",
       "      <td>50</td>\n",
       "      <td>0.50</td>\n",
       "      <td>0.50</td>\n",
       "      <td>1800.0</td>\n",
       "      <td>1700.0</td>\n",
       "      <td>1080.0</td>\n",
       "      <td>1020.0</td>\n",
       "    </tr>\n",
       "    <tr>\n",
       "      <th>20</th>\n",
       "      <td>95</td>\n",
       "      <td>5</td>\n",
       "      <td>0.95</td>\n",
       "      <td>0.05</td>\n",
       "      <td>1900.0</td>\n",
       "      <td>1700.0</td>\n",
       "      <td>1140.0</td>\n",
       "      <td>1020.0</td>\n",
       "    </tr>\n",
       "    <tr>\n",
       "      <th>40</th>\n",
       "      <td>99</td>\n",
       "      <td>1</td>\n",
       "      <td>0.99</td>\n",
       "      <td>0.01</td>\n",
       "      <td>2200.0</td>\n",
       "      <td>1700.0</td>\n",
       "      <td>1320.0</td>\n",
       "      <td>1020.0</td>\n",
       "    </tr>\n",
       "    <tr>\n",
       "      <th>60</th>\n",
       "      <td>100</td>\n",
       "      <td>0</td>\n",
       "      <td>1.00</td>\n",
       "      <td>0.00</td>\n",
       "      <td>2700.0</td>\n",
       "      <td>1700.0</td>\n",
       "      <td>1620.0</td>\n",
       "      <td>1020.0</td>\n",
       "    </tr>\n",
       "    <tr>\n",
       "      <th>80</th>\n",
       "      <td>100</td>\n",
       "      <td>0</td>\n",
       "      <td>1.00</td>\n",
       "      <td>0.00</td>\n",
       "      <td>3200.0</td>\n",
       "      <td>1700.0</td>\n",
       "      <td>1920.0</td>\n",
       "      <td>1020.0</td>\n",
       "    </tr>\n",
       "  </tbody>\n",
       "</table>\n",
       "</div>"
      ],
      "text/plain": [
       "    COUNTS_U1  COUNTS_U2  FIRST_EPOCH_PROB_U1  FIRST_EPOCH_PROB_U2  MEAN_U1  \\\n",
       "0          50         50                 0.50                 0.50   1800.0   \n",
       "20         95          5                 0.95                 0.05   1900.0   \n",
       "40         99          1                 0.99                 0.01   2200.0   \n",
       "60        100          0                 1.00                 0.00   2700.0   \n",
       "80        100          0                 1.00                 0.00   3200.0   \n",
       "\n",
       "    MEAN_U2   SD_U1   SD_U2  \n",
       "0    1700.0  1080.0  1020.0  \n",
       "20   1700.0  1140.0  1020.0  \n",
       "40   1700.0  1320.0  1020.0  \n",
       "60   1700.0  1620.0  1020.0  \n",
       "80   1700.0  1920.0  1020.0  "
      ]
     },
     "execution_count": 9,
     "metadata": {},
     "output_type": "execute_result"
    }
   ],
   "source": [
    "data"
   ]
  },
  {
   "cell_type": "markdown",
   "metadata": {},
   "source": [
    "## calculate error and make dataframe from data"
   ]
  },
  {
   "cell_type": "code",
   "execution_count": 10,
   "metadata": {
    "collapsed": true
   },
   "outputs": [],
   "source": [
    "variance = pd.DataFrame()\n",
    "variance['COUNTS_U1'] = data['COUNTS_U1'].map(fp1_var)\n",
    "variance['COUNTS_U2'] = data['COUNTS_U2'].map(fp1_var)\n",
    "variance['FIRST_EPOCH_PROB_U1'] = data['FIRST_EPOCH_PROB_U1'].map(fp1_var)\n",
    "variance['FIRST_EPOCH_PROB_U2'] = data['FIRST_EPOCH_PROB_U2'].map(fp1_var)\n",
    "variance['MEAN_U1'] = data['MEAN_U1'].map(fcv_var)\n",
    "variance['MEAN_U2'] = data['MEAN_U2'].map(fcv_var)\n",
    "variance['SD_U1'] = data['SD_U1'].map(fcv_var)\n",
    "variance['SD_U2'] = data['SD_U2'].map(fcv_var)\n",
    "variance.index = index\n",
    "variance.columns = col"
   ]
  },
  {
   "cell_type": "code",
   "execution_count": 11,
   "metadata": {},
   "outputs": [
    {
     "data": {
      "text/html": [
       "<div>\n",
       "<style>\n",
       "    .dataframe thead tr:only-child th {\n",
       "        text-align: right;\n",
       "    }\n",
       "\n",
       "    .dataframe thead th {\n",
       "        text-align: left;\n",
       "    }\n",
       "\n",
       "    .dataframe tbody tr th {\n",
       "        vertical-align: top;\n",
       "    }\n",
       "</style>\n",
       "<table border=\"1\" class=\"dataframe\">\n",
       "  <thead>\n",
       "    <tr style=\"text-align: right;\">\n",
       "      <th></th>\n",
       "      <th>COUNTS_U1</th>\n",
       "      <th>COUNTS_U2</th>\n",
       "      <th>FIRST_EPOCH_PROB_U1</th>\n",
       "      <th>FIRST_EPOCH_PROB_U2</th>\n",
       "      <th>MEAN_U1</th>\n",
       "      <th>MEAN_U2</th>\n",
       "      <th>SD_U1</th>\n",
       "      <th>SD_U2</th>\n",
       "    </tr>\n",
       "  </thead>\n",
       "  <tbody>\n",
       "    <tr>\n",
       "      <th>0</th>\n",
       "      <td>5.0</td>\n",
       "      <td>5.0</td>\n",
       "      <td>0.050</td>\n",
       "      <td>0.050</td>\n",
       "      <td>360.0</td>\n",
       "      <td>340.0</td>\n",
       "      <td>216.0</td>\n",
       "      <td>204.0</td>\n",
       "    </tr>\n",
       "    <tr>\n",
       "      <th>20</th>\n",
       "      <td>9.5</td>\n",
       "      <td>0.5</td>\n",
       "      <td>0.095</td>\n",
       "      <td>0.005</td>\n",
       "      <td>380.0</td>\n",
       "      <td>340.0</td>\n",
       "      <td>228.0</td>\n",
       "      <td>204.0</td>\n",
       "    </tr>\n",
       "    <tr>\n",
       "      <th>40</th>\n",
       "      <td>9.9</td>\n",
       "      <td>0.1</td>\n",
       "      <td>0.099</td>\n",
       "      <td>0.001</td>\n",
       "      <td>440.0</td>\n",
       "      <td>340.0</td>\n",
       "      <td>264.0</td>\n",
       "      <td>204.0</td>\n",
       "    </tr>\n",
       "    <tr>\n",
       "      <th>60</th>\n",
       "      <td>10.0</td>\n",
       "      <td>0.0</td>\n",
       "      <td>0.100</td>\n",
       "      <td>0.000</td>\n",
       "      <td>540.0</td>\n",
       "      <td>340.0</td>\n",
       "      <td>324.0</td>\n",
       "      <td>204.0</td>\n",
       "    </tr>\n",
       "    <tr>\n",
       "      <th>80</th>\n",
       "      <td>10.0</td>\n",
       "      <td>0.0</td>\n",
       "      <td>0.100</td>\n",
       "      <td>0.000</td>\n",
       "      <td>640.0</td>\n",
       "      <td>340.0</td>\n",
       "      <td>384.0</td>\n",
       "      <td>204.0</td>\n",
       "    </tr>\n",
       "  </tbody>\n",
       "</table>\n",
       "</div>"
      ],
      "text/plain": [
       "    COUNTS_U1  COUNTS_U2  FIRST_EPOCH_PROB_U1  FIRST_EPOCH_PROB_U2  MEAN_U1  \\\n",
       "0         5.0        5.0                0.050                0.050    360.0   \n",
       "20        9.5        0.5                0.095                0.005    380.0   \n",
       "40        9.9        0.1                0.099                0.001    440.0   \n",
       "60       10.0        0.0                0.100                0.000    540.0   \n",
       "80       10.0        0.0                0.100                0.000    640.0   \n",
       "\n",
       "    MEAN_U2  SD_U1  SD_U2  \n",
       "0     340.0  216.0  204.0  \n",
       "20    340.0  228.0  204.0  \n",
       "40    340.0  264.0  204.0  \n",
       "60    340.0  324.0  204.0  \n",
       "80    340.0  384.0  204.0  "
      ]
     },
     "execution_count": 11,
     "metadata": {},
     "output_type": "execute_result"
    }
   ],
   "source": [
    "variance"
   ]
  },
  {
   "cell_type": "code",
   "execution_count": null,
   "metadata": {
    "collapsed": true
   },
   "outputs": [],
   "source": []
  },
  {
   "cell_type": "markdown",
   "metadata": {},
   "source": [
    "### load initial parameters"
   ]
  },
  {
   "cell_type": "code",
   "execution_count": 12,
   "metadata": {},
   "outputs": [
    {
     "name": "stdout",
     "output_type": "stream",
     "text": [
      "demodynamics.ipynb model1.py          syU1.csv           trex.pkl\r\n",
      "demomcmc.ipynb     model1.pyc         syU2.csv\r\n",
      "demomodel.ipynb    rivalry1.py        sy_bias.csv\r\n",
      "mcmc.py            rivalry1.pyc       sy_prob.csv\r\n"
     ]
    }
   ],
   "source": [
    "!ls"
   ]
  },
  {
   "cell_type": "code",
   "execution_count": 13,
   "metadata": {},
   "outputs": [
    {
     "data": {
      "text/plain": [
       "beta        1.700000\n",
       "gamma       3.520000\n",
       "kb          0.109369\n",
       "kc          0.100000\n",
       "ks          3.000000\n",
       "mu          0.000000\n",
       "sigma       0.400000\n",
       "tau_a    1248.000000\n",
       "tau_u      10.000000\n",
       "dtype: float64"
      ]
     },
     "execution_count": 13,
     "metadata": {},
     "output_type": "execute_result"
    }
   ],
   "source": [
    "initial = pd.read_pickle('trex.pkl')\n",
    "initial"
   ]
  },
  {
   "cell_type": "code",
   "execution_count": 14,
   "metadata": {
    "collapsed": true
   },
   "outputs": [],
   "source": [
    "theta_cur = initial\n",
    "theta_prop = newtheta(theta_cur)"
   ]
  },
  {
   "cell_type": "code",
   "execution_count": 15,
   "metadata": {},
   "outputs": [
    {
     "name": "stdout",
     "output_type": "stream",
     "text": [
      "beta        1.700000\n",
      "gamma       3.520000\n",
      "kb          0.109369\n",
      "kc          0.100000\n",
      "ks          3.000000\n",
      "mu          0.000000\n",
      "sigma       0.400000\n",
      "tau_a    1248.000000\n",
      "tau_u      10.000000\n",
      "dtype: float64\n",
      "beta        1.581468\n",
      "gamma       3.498035\n",
      "kb          0.108795\n",
      "kc          0.098424\n",
      "ks          3.025380\n",
      "mu          0.000000\n",
      "sigma       0.364512\n",
      "tau_a    1251.472646\n",
      "tau_u       9.841504\n",
      "dtype: float64\n"
     ]
    }
   ],
   "source": [
    "print theta_cur\n",
    "print theta_prop"
   ]
  },
  {
   "cell_type": "markdown",
   "metadata": {},
   "source": [
    "## run model with current and proposed theta values"
   ]
  },
  {
   "cell_type": "code",
   "execution_count": 16,
   "metadata": {
    "collapsed": true
   },
   "outputs": [],
   "source": [
    "#trials\n",
    "dominance = 1\n",
    "firstprob = 200"
   ]
  },
  {
   "cell_type": "code",
   "execution_count": 17,
   "metadata": {
    "collapsed": true
   },
   "outputs": [],
   "source": [
    "m1 = model.run(theta_cur,dominance,firstprob)"
   ]
  },
  {
   "cell_type": "code",
   "execution_count": 18,
   "metadata": {
    "collapsed": true
   },
   "outputs": [],
   "source": [
    "m2 = model.run(theta_prop,dominance,firstprob)"
   ]
  },
  {
   "cell_type": "code",
   "execution_count": 27,
   "metadata": {},
   "outputs": [
    {
     "data": {
      "text/html": [
       "<div>\n",
       "<style>\n",
       "    .dataframe thead tr:only-child th {\n",
       "        text-align: right;\n",
       "    }\n",
       "\n",
       "    .dataframe thead th {\n",
       "        text-align: left;\n",
       "    }\n",
       "\n",
       "    .dataframe tbody tr th {\n",
       "        vertical-align: top;\n",
       "    }\n",
       "</style>\n",
       "<table border=\"1\" class=\"dataframe\">\n",
       "  <thead>\n",
       "    <tr style=\"text-align: right;\">\n",
       "      <th></th>\n",
       "      <th>COUNTS_U1</th>\n",
       "      <th>COUNTS_U2</th>\n",
       "      <th>FIRST_EPOCH_PROB_U1</th>\n",
       "      <th>FIRST_EPOCH_PROB_U2</th>\n",
       "      <th>MEAN_U1</th>\n",
       "      <th>MEAN_U2</th>\n",
       "      <th>SD_U1</th>\n",
       "      <th>SD_U2</th>\n",
       "      <th>CV U1</th>\n",
       "      <th>CV U2</th>\n",
       "    </tr>\n",
       "  </thead>\n",
       "  <tbody>\n",
       "    <tr>\n",
       "      <th>0</th>\n",
       "      <td>103.0</td>\n",
       "      <td>97.0</td>\n",
       "      <td>0.515</td>\n",
       "      <td>0.485</td>\n",
       "      <td>208.554357</td>\n",
       "      <td>208.211706</td>\n",
       "      <td>145.631635</td>\n",
       "      <td>145.371687</td>\n",
       "      <td>0.698291</td>\n",
       "      <td>0.698192</td>\n",
       "    </tr>\n",
       "    <tr>\n",
       "      <th>20</th>\n",
       "      <td>74.0</td>\n",
       "      <td>126.0</td>\n",
       "      <td>0.370</td>\n",
       "      <td>0.630</td>\n",
       "      <td>225.322855</td>\n",
       "      <td>201.113424</td>\n",
       "      <td>153.233565</td>\n",
       "      <td>136.345871</td>\n",
       "      <td>0.680062</td>\n",
       "      <td>0.677955</td>\n",
       "    </tr>\n",
       "    <tr>\n",
       "      <th>40</th>\n",
       "      <td>200.0</td>\n",
       "      <td>0.0</td>\n",
       "      <td>1.000</td>\n",
       "      <td>0.000</td>\n",
       "      <td>233.701593</td>\n",
       "      <td>186.914956</td>\n",
       "      <td>164.239296</td>\n",
       "      <td>130.862031</td>\n",
       "      <td>0.702774</td>\n",
       "      <td>0.700115</td>\n",
       "    </tr>\n",
       "    <tr>\n",
       "      <th>60</th>\n",
       "      <td>200.0</td>\n",
       "      <td>0.0</td>\n",
       "      <td>1.000</td>\n",
       "      <td>0.000</td>\n",
       "      <td>246.974283</td>\n",
       "      <td>176.114201</td>\n",
       "      <td>176.475757</td>\n",
       "      <td>125.238880</td>\n",
       "      <td>0.714551</td>\n",
       "      <td>0.711123</td>\n",
       "    </tr>\n",
       "    <tr>\n",
       "      <th>80</th>\n",
       "      <td>200.0</td>\n",
       "      <td>0.0</td>\n",
       "      <td>1.000</td>\n",
       "      <td>0.000</td>\n",
       "      <td>265.826464</td>\n",
       "      <td>169.395490</td>\n",
       "      <td>188.178699</td>\n",
       "      <td>118.734680</td>\n",
       "      <td>0.707901</td>\n",
       "      <td>0.700932</td>\n",
       "    </tr>\n",
       "  </tbody>\n",
       "</table>\n",
       "</div>"
      ],
      "text/plain": [
       "    COUNTS_U1  COUNTS_U2  FIRST_EPOCH_PROB_U1  FIRST_EPOCH_PROB_U2  \\\n",
       "0       103.0       97.0                0.515                0.485   \n",
       "20       74.0      126.0                0.370                0.630   \n",
       "40      200.0        0.0                1.000                0.000   \n",
       "60      200.0        0.0                1.000                0.000   \n",
       "80      200.0        0.0                1.000                0.000   \n",
       "\n",
       "       MEAN_U1     MEAN_U2       SD_U1       SD_U2     CV U1     CV U2  \n",
       "0   208.554357  208.211706  145.631635  145.371687  0.698291  0.698192  \n",
       "20  225.322855  201.113424  153.233565  136.345871  0.680062  0.677955  \n",
       "40  233.701593  186.914956  164.239296  130.862031  0.702774  0.700115  \n",
       "60  246.974283  176.114201  176.475757  125.238880  0.714551  0.711123  \n",
       "80  265.826464  169.395490  188.178699  118.734680  0.707901  0.700932  "
      ]
     },
     "execution_count": 27,
     "metadata": {},
     "output_type": "execute_result"
    }
   ],
   "source": [
    "m1.index = index\n",
    "m1.columns = col\n",
    "#m1['CV U1'] = m1['SD_U1']/m1['MEAN_U1']\n",
    "#m1['CV U2'] = m1['SD_U2']/m1['MEAN_U2']\n",
    "m1"
   ]
  },
  {
   "cell_type": "code",
   "execution_count": 21,
   "metadata": {},
   "outputs": [
    {
     "data": {
      "text/html": [
       "<div>\n",
       "<style>\n",
       "    .dataframe thead tr:only-child th {\n",
       "        text-align: right;\n",
       "    }\n",
       "\n",
       "    .dataframe thead th {\n",
       "        text-align: left;\n",
       "    }\n",
       "\n",
       "    .dataframe tbody tr th {\n",
       "        vertical-align: top;\n",
       "    }\n",
       "</style>\n",
       "<table border=\"1\" class=\"dataframe\">\n",
       "  <thead>\n",
       "    <tr style=\"text-align: right;\">\n",
       "      <th></th>\n",
       "      <th>COUNTS_U1</th>\n",
       "      <th>COUNTS_U2</th>\n",
       "      <th>FIRST_EPOCH_PROB_U1</th>\n",
       "      <th>FIRST_EPOCH_PROB_U2</th>\n",
       "      <th>MEAN_U1</th>\n",
       "      <th>MEAN_U2</th>\n",
       "      <th>SD_U1</th>\n",
       "      <th>SD_U2</th>\n",
       "    </tr>\n",
       "  </thead>\n",
       "  <tbody>\n",
       "    <tr>\n",
       "      <th>0</th>\n",
       "      <td>97.0</td>\n",
       "      <td>103.0</td>\n",
       "      <td>0.485</td>\n",
       "      <td>0.515</td>\n",
       "      <td>182.923525</td>\n",
       "      <td>183.008012</td>\n",
       "      <td>136.143291</td>\n",
       "      <td>136.251759</td>\n",
       "    </tr>\n",
       "    <tr>\n",
       "      <th>20</th>\n",
       "      <td>108.0</td>\n",
       "      <td>92.0</td>\n",
       "      <td>0.540</td>\n",
       "      <td>0.460</td>\n",
       "      <td>198.462866</td>\n",
       "      <td>178.240810</td>\n",
       "      <td>142.998249</td>\n",
       "      <td>128.325588</td>\n",
       "    </tr>\n",
       "    <tr>\n",
       "      <th>40</th>\n",
       "      <td>160.0</td>\n",
       "      <td>40.0</td>\n",
       "      <td>0.800</td>\n",
       "      <td>0.200</td>\n",
       "      <td>209.159910</td>\n",
       "      <td>167.650901</td>\n",
       "      <td>151.589427</td>\n",
       "      <td>120.849097</td>\n",
       "    </tr>\n",
       "    <tr>\n",
       "      <th>60</th>\n",
       "      <td>200.0</td>\n",
       "      <td>0.0</td>\n",
       "      <td>1.000</td>\n",
       "      <td>0.000</td>\n",
       "      <td>215.836290</td>\n",
       "      <td>155.316704</td>\n",
       "      <td>163.304175</td>\n",
       "      <td>116.539941</td>\n",
       "    </tr>\n",
       "    <tr>\n",
       "      <th>80</th>\n",
       "      <td>200.0</td>\n",
       "      <td>0.0</td>\n",
       "      <td>1.000</td>\n",
       "      <td>0.000</td>\n",
       "      <td>231.359245</td>\n",
       "      <td>147.689434</td>\n",
       "      <td>175.962955</td>\n",
       "      <td>111.426103</td>\n",
       "    </tr>\n",
       "  </tbody>\n",
       "</table>\n",
       "</div>"
      ],
      "text/plain": [
       "    COUNTS_U1  COUNTS_U2  FIRST_EPOCH_PROB_U1  FIRST_EPOCH_PROB_U2  \\\n",
       "0        97.0      103.0                0.485                0.515   \n",
       "20      108.0       92.0                0.540                0.460   \n",
       "40      160.0       40.0                0.800                0.200   \n",
       "60      200.0        0.0                1.000                0.000   \n",
       "80      200.0        0.0                1.000                0.000   \n",
       "\n",
       "       MEAN_U1     MEAN_U2       SD_U1       SD_U2  \n",
       "0   182.923525  183.008012  136.143291  136.251759  \n",
       "20  198.462866  178.240810  142.998249  128.325588  \n",
       "40  209.159910  167.650901  151.589427  120.849097  \n",
       "60  215.836290  155.316704  163.304175  116.539941  \n",
       "80  231.359245  147.689434  175.962955  111.426103  "
      ]
     },
     "execution_count": 21,
     "metadata": {},
     "output_type": "execute_result"
    }
   ],
   "source": [
    "m2.index = index\n",
    "m2.columns=col\n",
    "m2"
   ]
  },
  {
   "cell_type": "markdown",
   "metadata": {},
   "source": [
    "## caluclate chi construct dataframe"
   ]
  },
  {
   "cell_type": "code",
   "execution_count": 22,
   "metadata": {
    "collapsed": true
   },
   "outputs": [],
   "source": [
    "chicur = pd.DataFrame(chisq(data,m1,variance),index=index)\n",
    "chiprop = pd.DataFrame(chisq(data,m2,variance),index=index)"
   ]
  },
  {
   "cell_type": "code",
   "execution_count": 23,
   "metadata": {},
   "outputs": [
    {
     "data": {
      "text/html": [
       "<div>\n",
       "<style>\n",
       "    .dataframe thead tr:only-child th {\n",
       "        text-align: right;\n",
       "    }\n",
       "\n",
       "    .dataframe thead th {\n",
       "        text-align: left;\n",
       "    }\n",
       "\n",
       "    .dataframe tbody tr th {\n",
       "        vertical-align: top;\n",
       "    }\n",
       "</style>\n",
       "<table border=\"1\" class=\"dataframe\">\n",
       "  <thead>\n",
       "    <tr style=\"text-align: right;\">\n",
       "      <th></th>\n",
       "      <th>FIRST_EPOCH_PROB_U1</th>\n",
       "      <th>MEAN_U1</th>\n",
       "      <th>MEAN_U2</th>\n",
       "      <th>SD_U1</th>\n",
       "      <th>SD_U2</th>\n",
       "    </tr>\n",
       "  </thead>\n",
       "  <tbody>\n",
       "    <tr>\n",
       "      <th>0</th>\n",
       "      <td>0.180162</td>\n",
       "      <td>19.542432</td>\n",
       "      <td>19.251145</td>\n",
       "      <td>18.712368</td>\n",
       "      <td>18.381745</td>\n",
       "    </tr>\n",
       "    <tr>\n",
       "      <th>20</th>\n",
       "      <td>288.631489</td>\n",
       "      <td>19.422047</td>\n",
       "      <td>19.434783</td>\n",
       "      <td>18.730917</td>\n",
       "      <td>18.763087</td>\n",
       "    </tr>\n",
       "    <tr>\n",
       "      <th>40</th>\n",
       "      <td>0.020000</td>\n",
       "      <td>19.970710</td>\n",
       "      <td>19.804726</td>\n",
       "      <td>19.165846</td>\n",
       "      <td>18.996692</td>\n",
       "    </tr>\n",
       "    <tr>\n",
       "      <th>60</th>\n",
       "      <td>0.000000</td>\n",
       "      <td>20.635580</td>\n",
       "      <td>20.088477</td>\n",
       "      <td>19.849892</td>\n",
       "      <td>19.237732</td>\n",
       "    </tr>\n",
       "    <tr>\n",
       "      <th>80</th>\n",
       "      <td>0.000000</td>\n",
       "      <td>21.018980</td>\n",
       "      <td>20.266005</td>\n",
       "      <td>20.339661</td>\n",
       "      <td>19.518435</td>\n",
       "    </tr>\n",
       "  </tbody>\n",
       "</table>\n",
       "</div>"
      ],
      "text/plain": [
       "    FIRST_EPOCH_PROB_U1    MEAN_U1    MEAN_U2      SD_U1      SD_U2\n",
       "0              0.180162  19.542432  19.251145  18.712368  18.381745\n",
       "20           288.631489  19.422047  19.434783  18.730917  18.763087\n",
       "40             0.020000  19.970710  19.804726  19.165846  18.996692\n",
       "60             0.000000  20.635580  20.088477  19.849892  19.237732\n",
       "80             0.000000  21.018980  20.266005  20.339661  19.518435"
      ]
     },
     "execution_count": 23,
     "metadata": {},
     "output_type": "execute_result"
    }
   ],
   "source": [
    "chicur"
   ]
  },
  {
   "cell_type": "code",
   "execution_count": 24,
   "metadata": {
    "scrolled": true
   },
   "outputs": [
    {
     "data": {
      "text/html": [
       "<div>\n",
       "<style>\n",
       "    .dataframe thead tr:only-child th {\n",
       "        text-align: right;\n",
       "    }\n",
       "\n",
       "    .dataframe thead th {\n",
       "        text-align: left;\n",
       "    }\n",
       "\n",
       "    .dataframe tbody tr th {\n",
       "        vertical-align: top;\n",
       "    }\n",
       "</style>\n",
       "<table border=\"1\" class=\"dataframe\">\n",
       "  <thead>\n",
       "    <tr style=\"text-align: right;\">\n",
       "      <th></th>\n",
       "      <th>FIRST_EPOCH_PROB_U1</th>\n",
       "      <th>MEAN_U1</th>\n",
       "      <th>MEAN_U2</th>\n",
       "      <th>SD_U1</th>\n",
       "      <th>SD_U2</th>\n",
       "    </tr>\n",
       "  </thead>\n",
       "  <tbody>\n",
       "    <tr>\n",
       "      <th>0</th>\n",
       "      <td>0.180162</td>\n",
       "      <td>20.176978</td>\n",
       "      <td>19.907134</td>\n",
       "      <td>19.094339</td>\n",
       "      <td>18.767084</td>\n",
       "    </tr>\n",
       "    <tr>\n",
       "      <th>20</th>\n",
       "      <td>135.346216</td>\n",
       "      <td>20.050060</td>\n",
       "      <td>20.032448</td>\n",
       "      <td>19.121508</td>\n",
       "      <td>19.105230</td>\n",
       "    </tr>\n",
       "    <tr>\n",
       "      <th>40</th>\n",
       "      <td>45.125000</td>\n",
       "      <td>20.472336</td>\n",
       "      <td>20.312230</td>\n",
       "      <td>19.587685</td>\n",
       "      <td>19.426959</td>\n",
       "    </tr>\n",
       "    <tr>\n",
       "      <th>60</th>\n",
       "      <td>0.000000</td>\n",
       "      <td>21.162789</td>\n",
       "      <td>20.640541</td>\n",
       "      <td>20.213789</td>\n",
       "      <td>19.613612</td>\n",
       "    </tr>\n",
       "    <tr>\n",
       "      <th>80</th>\n",
       "      <td>0.000000</td>\n",
       "      <td>21.515693</td>\n",
       "      <td>20.844880</td>\n",
       "      <td>20.627612</td>\n",
       "      <td>19.836278</td>\n",
       "    </tr>\n",
       "  </tbody>\n",
       "</table>\n",
       "</div>"
      ],
      "text/plain": [
       "    FIRST_EPOCH_PROB_U1    MEAN_U1    MEAN_U2      SD_U1      SD_U2\n",
       "0              0.180162  20.176978  19.907134  19.094339  18.767084\n",
       "20           135.346216  20.050060  20.032448  19.121508  19.105230\n",
       "40            45.125000  20.472336  20.312230  19.587685  19.426959\n",
       "60             0.000000  21.162789  20.640541  20.213789  19.613612\n",
       "80             0.000000  21.515693  20.844880  20.627612  19.836278"
      ]
     },
     "execution_count": 24,
     "metadata": {},
     "output_type": "execute_result"
    }
   ],
   "source": [
    "chiprop"
   ]
  },
  {
   "cell_type": "markdown",
   "metadata": {},
   "source": [
    "##  calulate likelihood ratio"
   ]
  },
  {
   "cell_type": "code",
   "execution_count": 25,
   "metadata": {},
   "outputs": [
    {
     "name": "stdout",
     "output_type": "stream",
     "text": [
      "679.96291\n",
      "581.160562856\n"
     ]
    }
   ],
   "source": [
    "sumchicur = chisum(chicur)\n",
    "sumprop = chisum(chiprop)\n",
    "print sumchicur\n",
    "print sumprop"
   ]
  },
  {
   "cell_type": "code",
   "execution_count": 26,
   "metadata": {},
   "outputs": [
    {
     "data": {
      "text/plain": [
       "2.8487679972608552e+21"
      ]
     },
     "execution_count": 26,
     "metadata": {},
     "output_type": "execute_result"
    }
   ],
   "source": [
    "ratio = np.exp((-sumprop+sumchicur)/2)\n",
    "ratio"
   ]
  },
  {
   "cell_type": "code",
   "execution_count": null,
   "metadata": {
    "collapsed": true
   },
   "outputs": [],
   "source": []
  }
 ],
 "metadata": {
  "kernelspec": {
   "display_name": "Python 2",
   "language": "python",
   "name": "python2"
  },
  "language_info": {
   "codemirror_mode": {
    "name": "ipython",
    "version": 2
   },
   "file_extension": ".py",
   "mimetype": "text/x-python",
   "name": "python",
   "nbconvert_exporter": "python",
   "pygments_lexer": "ipython2",
   "version": "2.7.13"
  }
 },
 "nbformat": 4,
 "nbformat_minor": 2
}
