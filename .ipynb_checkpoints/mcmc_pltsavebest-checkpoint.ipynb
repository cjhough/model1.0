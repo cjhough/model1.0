{
 "cells": [
  {
   "cell_type": "code",
   "execution_count": 1,
   "metadata": {
    "scrolled": true
   },
   "outputs": [
    {
     "name": "stdout",
     "output_type": "stream",
     "text": [
      "storeresults/trex_100CHISQ.pkl       storeresults/vraptor_100THETA.pkl\r\n",
      "storeresults/trex_100SUM.pkl         storeresults/vraptor_150CHISQ.pkl\r\n",
      "storeresults/trex_100THETA.pkl       storeresults/vraptor_150SUM.pkl\r\n",
      "storeresults/trex_20CHISQ.pkl        storeresults/vraptor_150THETA.pkl\r\n",
      "storeresults/trex_20SUM.pkl          storeresults/vraptor_200CHISQ.pkl\r\n",
      "storeresults/trex_20THETA.pkl        storeresults/vraptor_200SUM.pkl\r\n",
      "storeresults/trex_40CHISQ.pkl        storeresults/vraptor_200THETA.pkl\r\n",
      "storeresults/trex_40SUM.pkl          storeresults/vraptor_20CHISQ.pkl\r\n",
      "storeresults/trex_40THETA.pkl        storeresults/vraptor_20SUM.pkl\r\n",
      "storeresults/trex_60CHISQ.pkl        storeresults/vraptor_20THETA.pkl\r\n",
      "storeresults/trex_60SUM.pkl          storeresults/vraptor_40CHISQ.pkl\r\n",
      "storeresults/trex_60THETA.pkl        storeresults/vraptor_40SUM.pkl\r\n",
      "storeresults/trex_80CHISQ.pkl        storeresults/vraptor_40THETA.pkl\r\n",
      "storeresults/trex_80SUM.pkl          storeresults/vraptor_50CHISQ.pkl\r\n",
      "storeresults/trex_80THETA.pkl        storeresults/vraptor_50SUM.pkl\r\n",
      "storeresults/vraptor200_200CHISQ.pkl storeresults/vraptor_50THETA.pkl\r\n",
      "storeresults/vraptor200_200SUM.pkl   storeresults/vraptor_60CHISQ.pkl\r\n",
      "storeresults/vraptor200_200THETA.pkl storeresults/vraptor_60SUM.pkl\r\n",
      "storeresults/vraptorII_200CHISQ.pkl  storeresults/vraptor_60THETA.pkl\r\n",
      "storeresults/vraptorII_200SUM.pkl    storeresults/vraptor_80CHISQ.pkl\r\n",
      "storeresults/vraptorII_200THETA.pkl  storeresults/vraptor_80SUM.pkl\r\n",
      "storeresults/vraptor_100CHISQ.pkl    storeresults/vraptor_80THETA.pkl\r\n",
      "storeresults/vraptor_100SUM.pkl\r\n"
     ]
    }
   ],
   "source": [
    "!ls storeresults/*.pkl"
   ]
  },
  {
   "cell_type": "code",
   "execution_count": 2,
   "metadata": {
    "collapsed": true
   },
   "outputs": [],
   "source": [
    "import pandas as pd\n",
    "import numpy as np\n",
    "import matplotlib.pyplot as plt\n",
    "\n",
    "%matplotlib inline"
   ]
  },
  {
   "cell_type": "code",
   "execution_count": 3,
   "metadata": {
    "collapsed": true
   },
   "outputs": [],
   "source": [
    "modelpath = str('/Users/carly/CODE/model1.0/')\n",
    "datapath = str('storeresults/')"
   ]
  },
  {
   "cell_type": "code",
   "execution_count": 18,
   "metadata": {
    "collapsed": true
   },
   "outputs": [],
   "source": [
    "mc = str('vraptorII_200')"
   ]
  },
  {
   "cell_type": "code",
   "execution_count": 19,
   "metadata": {
    "collapsed": true
   },
   "outputs": [],
   "source": [
    "def readchi(path,name):\n",
    "    chiread = pd.read_pickle(path+name+'CHISQ.pkl')\n",
    "    return chiread\n",
    "def readtheta(path,name):\n",
    "    thetaread = pd.read_pickle(path+name+'THETA.pkl')\n",
    "    return thetaread\n",
    "def readsum(path,name):\n",
    "    sumread  = pd.read_pickle(path+name+'SUM.pkl')\n",
    "    return sumread"
   ]
  },
  {
   "cell_type": "code",
   "execution_count": 20,
   "metadata": {
    "collapsed": true
   },
   "outputs": [],
   "source": [
    "mcsum = readsum(datapath,mc)\n",
    "mctheta = readtheta(datapath,mc)\n",
    "mcchi = readchi(datapath,mc)"
   ]
  },
  {
   "cell_type": "code",
   "execution_count": 21,
   "metadata": {},
   "outputs": [
    {
     "data": {
      "image/png": "[encoded data removed]",
      "text/plain": [
       "<matplotlib.figure.Figure at 0x10cae4f90>"
      ]
     },
     "metadata": {},
     "output_type": "display_data"
    }
   ],
   "source": [
    "fig = plt.Figure()\n",
    "\n",
    "mcsum.plot.line(title='adaptation model')\n",
    "\n",
    "fig.set_size_inches(10,8)\n",
    "#fig.tight_layout()\n",
    "fig.get_figure()\n",
    "\n",
    "#fig.savefig('/Users/carly/Desktop/artifice1_MCMC')"
   ]
  },
  {
   "cell_type": "code",
   "execution_count": 22,
   "metadata": {},
   "outputs": [
    {
     "name": "stdout",
     "output_type": "stream",
     "text": [
      "<class 'pandas.core.frame.DataFrame'>\n",
      "Int64Index: 201 entries, 0 to 200\n",
      "Data columns (total 5 columns):\n",
      "FIRST_EPOCH_PROB_U1    201 non-null float64\n",
      "MEAN_U1                201 non-null float64\n",
      "MEAN_U2                201 non-null float64\n",
      "SD_U1                  201 non-null float64\n",
      "SD_U2                  201 non-null float64\n",
      "dtypes: float64(5)\n",
      "memory usage: 9.4 KB\n"
     ]
    }
   ],
   "source": [
    "mcsum.info()"
   ]
  },
  {
   "cell_type": "code",
   "execution_count": 23,
   "metadata": {},
   "outputs": [
    {
     "data": {
      "text/plain": [
       "66"
      ]
     },
     "execution_count": 23,
     "metadata": {},
     "output_type": "execute_result"
    }
   ],
   "source": [
    "allchi = mcsum.sum(axis=1)\n",
    "allchi.idxmin()"
   ]
  },
  {
   "cell_type": "code",
   "execution_count": 24,
   "metadata": {
    "collapsed": true
   },
   "outputs": [],
   "source": [
    "def kc(dic):\n",
    "    s1 = dic\n",
    "    for key, value in s1.items():\n",
    "        # do something with value\n",
    "        s1[key] = value\n",
    "    return s1"
   ]
  },
  {
   "cell_type": "code",
   "execution_count": 25,
   "metadata": {
    "collapsed": true
   },
   "outputs": [],
   "source": [
    "#thetakc = pd.DataFrame.from_records(mctheta['kc'])"
   ]
  },
  {
   "cell_type": "code",
   "execution_count": 26,
   "metadata": {
    "collapsed": true
   },
   "outputs": [],
   "source": [
    "steps = len(mcsum)\n",
    "x0 = np.arange(0,steps)"
   ]
  },
  {
   "cell_type": "code",
   "execution_count": 27,
   "metadata": {},
   "outputs": [
    {
     "data": {
      "image/png": "[encoded data removed]",
      "text/plain": [
       "<matplotlib.figure.Figure at 0x10c403050>"
      ]
     },
     "metadata": {},
     "output_type": "display_data"
    }
   ],
   "source": [
    "theta = mctheta\n",
    "fig,ax = plt.subplots(3,3)\n",
    "\n",
    "ax[0,0].plot(x0,theta['beta'],color='blue',label='BETA')\n",
    "ax[0,1].plot(x0,theta['gamma'],color='green',label='GAMMA')\n",
    "ax[0,2].plot(x0,theta['sigma'],color='purple',label='SIGMA')\n",
    "ax[1,0].plot(x0,theta['tau_a'],color='orange',label='TAU_A')\n",
    "ax[1,1].plot(x0,theta['tau_u'],color='brown',label='TAU_U')\n",
    "ax[1,2].plot(x0,theta['mu'],color='black',label='MU')\n",
    "ax[2,0].plot(x0,theta['ks'],color='yellow',label='not from contrast')\n",
    "ax[2,1].plot(x0,theta['kc'],color='grey',label='contrast')\n",
    "ax[2,2].plot(x0,theta['kb'],color='pink',label='baseline stimulus')\n",
    "\n",
    "\n",
    "\n",
    "ax[0,0].set_title('BETA')\n",
    "ax[0,1].set_title('GAMMA')\n",
    "ax[0,2].set_title('SIGMA (noise)')\n",
    "ax[1,0].set_title('TAU_A')\n",
    "ax[1,1].set_title('TAU_U')\n",
    "ax[1,2].set_title('Mu')\n",
    "ax[2,0].set_title('Not Contrast Stimulus')\n",
    "ax[2,1].set_title('Contrast Stimulus')\n",
    "ax[2,2].set_title('Baseline Stimulus')\n",
    "\n",
    "fig.tight_layout()\n",
    "fig.get_figure()\n",
    "fig.set_size_inches(10,10)\n",
    "#fig.savefig(savepath+'', dpi=100)"
   ]
  },
  {
   "cell_type": "code",
   "execution_count": 28,
   "metadata": {
    "collapsed": true
   },
   "outputs": [],
   "source": [
    "chicol = ['CHI: First Epoch Probability',\n",
    "          'CHI: U1 Mean Dominance Time',\n",
    "          'CHI: U2 Mean Dominance Time',\n",
    "          'CHI: U1 std for CV=0.6',\n",
    "          'CHI: U2 std for CV=0.6'\n",
    "         ]"
   ]
  },
  {
   "cell_type": "code",
   "execution_count": 29,
   "metadata": {
    "collapsed": true
   },
   "outputs": [],
   "source": [
    "best = allchi.idxmin()"
   ]
  },
  {
   "cell_type": "code",
   "execution_count": 30,
   "metadata": {},
   "outputs": [
    {
     "data": {
      "text/html": [
       "<div>\n",
       "<style>\n",
       "    .dataframe thead tr:only-child th {\n",
       "        text-align: right;\n",
       "    }\n",
       "\n",
       "    .dataframe thead th {\n",
       "        text-align: left;\n",
       "    }\n",
       "\n",
       "    .dataframe tbody tr th {\n",
       "        vertical-align: top;\n",
       "    }\n",
       "</style>\n",
       "<table border=\"1\" class=\"dataframe\">\n",
       "  <thead>\n",
       "    <tr style=\"text-align: right;\">\n",
       "      <th></th>\n",
       "      <th>CHI: First Epoch Probability</th>\n",
       "      <th>CHI: U1 Mean Dominance Time</th>\n",
       "      <th>CHI: U2 Mean Dominance Time</th>\n",
       "      <th>CHI: U1 std for CV=0.6</th>\n",
       "      <th>CHI: U2 std for CV=0.6</th>\n",
       "    </tr>\n",
       "  </thead>\n",
       "  <tbody>\n",
       "    <tr>\n",
       "      <th>0</th>\n",
       "      <td>0.320513</td>\n",
       "      <td>0.002698</td>\n",
       "      <td>0.352670</td>\n",
       "      <td>0.524408</td>\n",
       "      <td>1.508338</td>\n",
       "    </tr>\n",
       "    <tr>\n",
       "      <th>20</th>\n",
       "      <td>0.740436</td>\n",
       "      <td>0.047749</td>\n",
       "      <td>0.125226</td>\n",
       "      <td>0.622282</td>\n",
       "      <td>0.079880</td>\n",
       "    </tr>\n",
       "    <tr>\n",
       "      <th>40</th>\n",
       "      <td>1.005025</td>\n",
       "      <td>0.825422</td>\n",
       "      <td>0.031646</td>\n",
       "      <td>0.004927</td>\n",
       "      <td>0.832650</td>\n",
       "    </tr>\n",
       "    <tr>\n",
       "      <th>60</th>\n",
       "      <td>0.000000</td>\n",
       "      <td>0.535390</td>\n",
       "      <td>2.163322</td>\n",
       "      <td>0.209333</td>\n",
       "      <td>1.525227</td>\n",
       "    </tr>\n",
       "    <tr>\n",
       "      <th>80</th>\n",
       "      <td>0.000000</td>\n",
       "      <td>2.154615</td>\n",
       "      <td>7.210287</td>\n",
       "      <td>0.004084</td>\n",
       "      <td>2.098173</td>\n",
       "    </tr>\n",
       "  </tbody>\n",
       "</table>\n",
       "</div>"
      ],
      "text/plain": [
       "    CHI: First Epoch Probability  CHI: U1 Mean Dominance Time  \\\n",
       "0                       0.320513                     0.002698   \n",
       "20                      0.740436                     0.047749   \n",
       "40                      1.005025                     0.825422   \n",
       "60                      0.000000                     0.535390   \n",
       "80                      0.000000                     2.154615   \n",
       "\n",
       "    CHI: U2 Mean Dominance Time  CHI: U1 std for CV=0.6  \\\n",
       "0                      0.352670                0.524408   \n",
       "20                     0.125226                0.622282   \n",
       "40                     0.031646                0.004927   \n",
       "60                     2.163322                0.209333   \n",
       "80                     7.210287                0.004084   \n",
       "\n",
       "    CHI: U2 std for CV=0.6  \n",
       "0                 1.508338  \n",
       "20                0.079880  \n",
       "40                0.832650  \n",
       "60                1.525227  \n",
       "80                2.098173  "
      ]
     },
     "execution_count": 30,
     "metadata": {},
     "output_type": "execute_result"
    }
   ],
   "source": [
    "dfbest = pd.DataFrame(mcchi[best])\n",
    "chiallsave = dfbest.T\n",
    "chiallsave.columns = chicol\n",
    "#chiallsave.index.name = 1\n",
    "chiallsave"
   ]
  },
  {
   "cell_type": "code",
   "execution_count": 31,
   "metadata": {},
   "outputs": [
    {
     "data": {
      "text/plain": [
       "beta        3.030485\n",
       "gamma       1.715578\n",
       "kb          0.120385\n",
       "kc          0.121740\n",
       "ks          5.060244\n",
       "mu          0.000746\n",
       "sigma       0.992838\n",
       "tau_a    3250.544433\n",
       "tau_u      15.234684\n",
       "Name: 66, dtype: float64"
      ]
     },
     "execution_count": 31,
     "metadata": {},
     "output_type": "execute_result"
    }
   ],
   "source": [
    "thetasave = mctheta.iloc[best]\n",
    "thetasave"
   ]
  },
  {
   "cell_type": "code",
   "execution_count": 32,
   "metadata": {
    "collapsed": true
   },
   "outputs": [],
   "source": [
    "#thetasave.to_pickle(pathname+'.pkl')\n",
    "#thetasave.to_pickle(modelpath+'vraptorIII.pkl')"
   ]
  },
  {
   "cell_type": "code",
   "execution_count": 33,
   "metadata": {},
   "outputs": [
    {
     "data": {
      "text/plain": [
       "FIRST_EPOCH_PROB_U1     2.065974\n",
       "MEAN_U1                 3.565875\n",
       "MEAN_U2                 9.883149\n",
       "SD_U1                   1.365035\n",
       "SD_U2                   6.044268\n",
       "CHI SUM                22.924301\n",
       "dtype: float64"
      ]
     },
     "execution_count": 33,
     "metadata": {},
     "output_type": "execute_result"
    }
   ],
   "source": [
    "colsum = dfbest.sum(axis=1)\n",
    "colsum['CHI SUM'] = colsum.sum()\n",
    "colsum"
   ]
  },
  {
   "cell_type": "code",
   "execution_count": null,
   "metadata": {
    "collapsed": true
   },
   "outputs": [],
   "source": []
  }
 ],
 "metadata": {
  "kernelspec": {
   "display_name": "Python 2",
   "language": "python",
   "name": "python2"
  },
  "language_info": {
   "codemirror_mode": {
    "name": "ipython",
    "version": 2
   },
   "file_extension": ".py",
   "mimetype": "text/x-python",
   "name": "python",
   "nbconvert_exporter": "python",
   "pygments_lexer": "ipython2",
   "version": "2.7.13"
  }
 },
 "nbformat": 4,
 "nbformat_minor": 2
}
