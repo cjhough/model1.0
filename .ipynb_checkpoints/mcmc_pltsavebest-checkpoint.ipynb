{
 "cells": [
  {
   "cell_type": "code",
   "execution_count": 22,
   "metadata": {
    "scrolled": true
   },
   "outputs": [
    {
     "name": "stdout",
     "output_type": "stream",
     "text": [
      "storeresults/trex_100CHISQ.pkl    storeresults/vraptor_150THETA.pkl\r\n",
      "storeresults/trex_100SUM.pkl      storeresults/vraptor_200CHISQ.pkl\r\n",
      "storeresults/trex_100THETA.pkl    storeresults/vraptor_200SUM.pkl\r\n",
      "storeresults/trex_20CHISQ.pkl     storeresults/vraptor_200THETA.pkl\r\n",
      "storeresults/trex_20SUM.pkl       storeresults/vraptor_20CHISQ.pkl\r\n",
      "storeresults/trex_20THETA.pkl     storeresults/vraptor_20SUM.pkl\r\n",
      "storeresults/trex_40CHISQ.pkl     storeresults/vraptor_20THETA.pkl\r\n",
      "storeresults/trex_40SUM.pkl       storeresults/vraptor_40CHISQ.pkl\r\n",
      "storeresults/trex_40THETA.pkl     storeresults/vraptor_40SUM.pkl\r\n",
      "storeresults/trex_60CHISQ.pkl     storeresults/vraptor_40THETA.pkl\r\n",
      "storeresults/trex_60SUM.pkl       storeresults/vraptor_50CHISQ.pkl\r\n",
      "storeresults/trex_60THETA.pkl     storeresults/vraptor_50SUM.pkl\r\n",
      "storeresults/trex_80CHISQ.pkl     storeresults/vraptor_50THETA.pkl\r\n",
      "storeresults/trex_80SUM.pkl       storeresults/vraptor_60CHISQ.pkl\r\n",
      "storeresults/trex_80THETA.pkl     storeresults/vraptor_60SUM.pkl\r\n",
      "storeresults/vraptor_100CHISQ.pkl storeresults/vraptor_60THETA.pkl\r\n",
      "storeresults/vraptor_100SUM.pkl   storeresults/vraptor_80CHISQ.pkl\r\n",
      "storeresults/vraptor_100THETA.pkl storeresults/vraptor_80SUM.pkl\r\n",
      "storeresults/vraptor_150CHISQ.pkl storeresults/vraptor_80THETA.pkl\r\n",
      "storeresults/vraptor_150SUM.pkl\r\n"
     ]
    }
   ],
   "source": [
    "!ls storeresults/*.pkl"
   ]
  },
  {
   "cell_type": "code",
   "execution_count": 23,
   "metadata": {
    "collapsed": true
   },
   "outputs": [],
   "source": [
    "import pandas as pd\n",
    "import numpy as np\n",
    "import matplotlib.pyplot as plt\n",
    "\n",
    "%matplotlib inline"
   ]
  },
  {
   "cell_type": "code",
   "execution_count": 24,
   "metadata": {
    "collapsed": true
   },
   "outputs": [],
   "source": [
    "modelpath = str('/Users/carly/CODE/model1.0/')\n",
    "datapath = str('storeresults/')"
   ]
  },
  {
   "cell_type": "code",
   "execution_count": 25,
   "metadata": {
    "collapsed": true
   },
   "outputs": [],
   "source": [
    "mc = str('vraptor_200')"
   ]
  },
  {
   "cell_type": "code",
   "execution_count": 26,
   "metadata": {
    "collapsed": true
   },
   "outputs": [],
   "source": [
    "def readchi(path,name):\n",
    "    chiread = pd.read_pickle(path+name+'CHISQ.pkl')\n",
    "    return chiread\n",
    "def readtheta(path,name):\n",
    "    thetaread = pd.read_pickle(path+name+'THETA.pkl')\n",
    "    return thetaread\n",
    "def readsum(path,name):\n",
    "    sumread  = pd.read_pickle(path+name+'SUM.pkl')\n",
    "    return sumread"
   ]
  },
  {
   "cell_type": "code",
   "execution_count": 27,
   "metadata": {
    "collapsed": true
   },
   "outputs": [],
   "source": [
    "mcsum = readsum(datapath,mc)\n",
    "mctheta = readtheta(datapath,mc)\n",
    "mcchi = readchi(datapath,mc)"
   ]
  },
  {
   "cell_type": "code",
   "execution_count": 28,
   "metadata": {},
   "outputs": [
    {
     "data": {
      "image/png": "[encoded data removed]",
      "text/plain": [
       "<matplotlib.figure.Figure at 0x10dd79150>"
      ]
     },
     "metadata": {},
     "output_type": "display_data"
    }
   ],
   "source": [
    "fig = plt.Figure()\n",
    "\n",
    "mcsum.plot.line(title='')\n",
    "\n",
    "fig.set_size_inches(10,8)\n",
    "#fig.tight_layout()\n",
    "fig.get_figure()\n",
    "\n",
    "#fig.savefig('/Users/carly/Desktop/artifice1_MCMC')"
   ]
  },
  {
   "cell_type": "code",
   "execution_count": 29,
   "metadata": {},
   "outputs": [
    {
     "name": "stdout",
     "output_type": "stream",
     "text": [
      "<class 'pandas.core.frame.DataFrame'>\n",
      "Int64Index: 201 entries, 0 to 200\n",
      "Data columns (total 5 columns):\n",
      "FIRST_EPOCH_PROB_U1    201 non-null float64\n",
      "MEAN_U1                201 non-null float64\n",
      "MEAN_U2                201 non-null float64\n",
      "SD_U1                  201 non-null float64\n",
      "SD_U2                  201 non-null float64\n",
      "dtypes: float64(5)\n",
      "memory usage: 9.4 KB\n"
     ]
    }
   ],
   "source": [
    "mcsum.info()"
   ]
  },
  {
   "cell_type": "code",
   "execution_count": 30,
   "metadata": {},
   "outputs": [
    {
     "data": {
      "text/plain": [
       "200"
      ]
     },
     "execution_count": 30,
     "metadata": {},
     "output_type": "execute_result"
    }
   ],
   "source": [
    "allchi = mcsum.sum(axis=1)\n",
    "allchi.idxmin()"
   ]
  },
  {
   "cell_type": "code",
   "execution_count": 31,
   "metadata": {
    "collapsed": true
   },
   "outputs": [],
   "source": [
    "def kc(dic):\n",
    "    s1 = dic\n",
    "    for key, value in s1.items():\n",
    "        # do something with value\n",
    "        s1[key] = value\n",
    "    return s1"
   ]
  },
  {
   "cell_type": "code",
   "execution_count": 32,
   "metadata": {
    "collapsed": true
   },
   "outputs": [],
   "source": [
    "#thetakc = pd.DataFrame.from_records(mctheta['kc'])"
   ]
  },
  {
   "cell_type": "code",
   "execution_count": 33,
   "metadata": {
    "collapsed": true
   },
   "outputs": [],
   "source": [
    "steps = len(mcsum)\n",
    "x0 = np.arange(0,steps)"
   ]
  },
  {
   "cell_type": "code",
   "execution_count": 34,
   "metadata": {},
   "outputs": [
    {
     "data": {
      "image/png": "[encoded data removed]",
      "text/plain": [
       "<matplotlib.figure.Figure at 0x10dcfb190>"
      ]
     },
     "metadata": {},
     "output_type": "display_data"
    }
   ],
   "source": [
    "theta = mctheta\n",
    "fig,ax = plt.subplots(3,3)\n",
    "\n",
    "ax[0,0].plot(x0,theta['beta'],color='blue',label='BETA')\n",
    "ax[0,1].plot(x0,theta['gamma'],color='green',label='GAMMA')\n",
    "ax[0,2].plot(x0,theta['sigma'],color='purple',label='SIGMA')\n",
    "ax[1,0].plot(x0,theta['tau_a'],color='orange',label='TAU_A')\n",
    "ax[1,1].plot(x0,theta['tau_u'],color='brown',label='TAU_U')\n",
    "ax[1,2].plot(x0,theta['mu'],color='black',label='MU')\n",
    "ax[2,0].plot(x0,theta['ks'],color='yellow',label='not from contrast')\n",
    "ax[2,1].plot(x0,theta['kc'],color='grey',label='contrast')\n",
    "ax[2,2].plot(x0,theta['kb'],color='pink',label='baseline stimulus')\n",
    "\n",
    "\n",
    "\n",
    "ax[0,0].set_title('BETA')\n",
    "ax[0,1].set_title('GAMMA')\n",
    "ax[0,2].set_title('SIGMA (noise)')\n",
    "ax[1,0].set_title('TAU_A')\n",
    "ax[1,1].set_title('TAU_U')\n",
    "ax[1,2].set_title('Mu')\n",
    "ax[2,0].set_title('Not Contrast Stimulus')\n",
    "ax[2,1].set_title('Contrast Stimulus')\n",
    "ax[2,2].set_title('Baseline Stimulus')\n",
    "\n",
    "fig.tight_layout()\n",
    "fig.get_figure()\n",
    "fig.set_size_inches(10,10)\n",
    "#fig.savefig(savepath+'', dpi=100)"
   ]
  },
  {
   "cell_type": "code",
   "execution_count": 35,
   "metadata": {
    "collapsed": true
   },
   "outputs": [],
   "source": [
    "chicol = ['CHI: First Epoch Probability',\n",
    "          'CHI: U1 Mean Dominance Time',\n",
    "          'CHI: U2 Mean Dominance Time',\n",
    "          'CHI: U1 std for CV=0.6',\n",
    "          'CHI: U2 std for CV=0.6'\n",
    "         ]"
   ]
  },
  {
   "cell_type": "code",
   "execution_count": 36,
   "metadata": {
    "collapsed": true
   },
   "outputs": [],
   "source": [
    "best = allchi.idxmin()"
   ]
  },
  {
   "cell_type": "code",
   "execution_count": 37,
   "metadata": {},
   "outputs": [
    {
     "data": {
      "text/html": [
       "<div>\n",
       "<style>\n",
       "    .dataframe thead tr:only-child th {\n",
       "        text-align: right;\n",
       "    }\n",
       "\n",
       "    .dataframe thead th {\n",
       "        text-align: left;\n",
       "    }\n",
       "\n",
       "    .dataframe tbody tr th {\n",
       "        vertical-align: top;\n",
       "    }\n",
       "</style>\n",
       "<table border=\"1\" class=\"dataframe\">\n",
       "  <thead>\n",
       "    <tr style=\"text-align: right;\">\n",
       "      <th></th>\n",
       "      <th>CHI: First Epoch Probability</th>\n",
       "      <th>CHI: U1 Mean Dominance Time</th>\n",
       "      <th>CHI: U2 Mean Dominance Time</th>\n",
       "      <th>CHI: U1 std for CV=0.6</th>\n",
       "      <th>CHI: U2 std for CV=0.6</th>\n",
       "    </tr>\n",
       "  </thead>\n",
       "  <tbody>\n",
       "    <tr>\n",
       "      <th>0</th>\n",
       "      <td>1.633229</td>\n",
       "      <td>0.044200</td>\n",
       "      <td>0.172086</td>\n",
       "      <td>0.638910</td>\n",
       "      <td>0.057590</td>\n",
       "    </tr>\n",
       "    <tr>\n",
       "      <th>20</th>\n",
       "      <td>1.228879</td>\n",
       "      <td>0.005776</td>\n",
       "      <td>0.684835</td>\n",
       "      <td>0.004251</td>\n",
       "      <td>0.730752</td>\n",
       "    </tr>\n",
       "    <tr>\n",
       "      <th>40</th>\n",
       "      <td>0.020000</td>\n",
       "      <td>0.107247</td>\n",
       "      <td>0.773042</td>\n",
       "      <td>1.444048</td>\n",
       "      <td>5.094825</td>\n",
       "    </tr>\n",
       "    <tr>\n",
       "      <th>60</th>\n",
       "      <td>0.000000</td>\n",
       "      <td>0.233597</td>\n",
       "      <td>3.567941</td>\n",
       "      <td>1.623388</td>\n",
       "      <td>6.150182</td>\n",
       "    </tr>\n",
       "    <tr>\n",
       "      <th>80</th>\n",
       "      <td>0.000000</td>\n",
       "      <td>0.888516</td>\n",
       "      <td>7.107301</td>\n",
       "      <td>0.961265</td>\n",
       "      <td>7.915788</td>\n",
       "    </tr>\n",
       "  </tbody>\n",
       "</table>\n",
       "</div>"
      ],
      "text/plain": [
       "    CHI: First Epoch Probability  CHI: U1 Mean Dominance Time  \\\n",
       "0                       1.633229                     0.044200   \n",
       "20                      1.228879                     0.005776   \n",
       "40                      0.020000                     0.107247   \n",
       "60                      0.000000                     0.233597   \n",
       "80                      0.000000                     0.888516   \n",
       "\n",
       "    CHI: U2 Mean Dominance Time  CHI: U1 std for CV=0.6  \\\n",
       "0                      0.172086                0.638910   \n",
       "20                     0.684835                0.004251   \n",
       "40                     0.773042                1.444048   \n",
       "60                     3.567941                1.623388   \n",
       "80                     7.107301                0.961265   \n",
       "\n",
       "    CHI: U2 std for CV=0.6  \n",
       "0                 0.057590  \n",
       "20                0.730752  \n",
       "40                5.094825  \n",
       "60                6.150182  \n",
       "80                7.915788  "
      ]
     },
     "execution_count": 37,
     "metadata": {},
     "output_type": "execute_result"
    }
   ],
   "source": [
    "dfbest = pd.DataFrame(mcchi[best])\n",
    "chiallsave = dfbest.T\n",
    "chiallsave.columns = chicol\n",
    "#chiallsave.index.name = 1\n",
    "chiallsave"
   ]
  },
  {
   "cell_type": "code",
   "execution_count": 38,
   "metadata": {},
   "outputs": [
    {
     "data": {
      "text/plain": [
       "beta        2.689951\n",
       "gamma       1.547210\n",
       "kb          0.256521\n",
       "kc          0.112853\n",
       "ks          4.178838\n",
       "mu          0.000817\n",
       "sigma       0.763931\n",
       "tau_a    3167.133829\n",
       "tau_u      12.124075\n",
       "Name: 200, dtype: float64"
      ]
     },
     "execution_count": 38,
     "metadata": {},
     "output_type": "execute_result"
    }
   ],
   "source": [
    "thetasave = mctheta.iloc[best]\n",
    "thetasave"
   ]
  },
  {
   "cell_type": "code",
   "execution_count": 39,
   "metadata": {
    "collapsed": true
   },
   "outputs": [],
   "source": [
    "#thetasave['mu']=0.001"
   ]
  },
  {
   "cell_type": "code",
   "execution_count": 40,
   "metadata": {
    "collapsed": true
   },
   "outputs": [],
   "source": [
    "#thetasave.to_pickle(pathname+'.pkl')\n",
    "#thetasave.to_pickle(modelpath+'vraptor200.pkl')"
   ]
  },
  {
   "cell_type": "code",
   "execution_count": 41,
   "metadata": {},
   "outputs": [
    {
     "data": {
      "text/plain": [
       "FIRST_EPOCH_PROB_U1     2.882108\n",
       "MEAN_U1                 1.279336\n",
       "MEAN_U2                12.305204\n",
       "SD_U1                   4.671862\n",
       "SD_U2                  19.949138\n",
       "CHI SUM                41.087648\n",
       "dtype: float64"
      ]
     },
     "execution_count": 41,
     "metadata": {},
     "output_type": "execute_result"
    }
   ],
   "source": [
    "colsum = dfbest.sum(axis=1)\n",
    "colsum['CHI SUM'] = colsum.sum()\n",
    "colsum"
   ]
  },
  {
   "cell_type": "code",
   "execution_count": null,
   "metadata": {
    "collapsed": true
   },
   "outputs": [],
   "source": []
  }
 ],
 "metadata": {
  "kernelspec": {
   "display_name": "Python 2",
   "language": "python",
   "name": "python2"
  },
  "language_info": {
   "codemirror_mode": {
    "name": "ipython",
    "version": 2
   },
   "file_extension": ".py",
   "mimetype": "text/x-python",
   "name": "python",
   "nbconvert_exporter": "python",
   "pygments_lexer": "ipython2",
   "version": "2.7.13"
  }
 },
 "nbformat": 4,
 "nbformat_minor": 2
}
